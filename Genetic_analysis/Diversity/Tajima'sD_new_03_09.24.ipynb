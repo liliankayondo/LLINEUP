{
 "cells": [
  {
   "cell_type": "code",
   "execution_count": null,
   "metadata": {},
   "outputs": [],
   "source": [
    "import malariagen_data"
   ]
  },
  {
   "cell_type": "code",
   "execution_count": null,
   "metadata": {},
   "outputs": [],
   "source": [
    "import dask\n",
    "dask.config.set(num_workers=2)"
   ]
  },
  {
   "cell_type": "code",
   "execution_count": null,
   "metadata": {},
   "outputs": [],
   "source": [
    "import pandas as pd"
   ]
  },
  {
   "cell_type": "code",
   "execution_count": null,
   "metadata": {},
   "outputs": [],
   "source": [
    "af1 = malariagen_data.Af1(pre=True,\n",
    "                          gcs_cache='/home/namulil/lstm_projects/funestus_llineup/gcs_cache',\n",
    "                          results_cache='home/namulil/lstm_projects/funestus_llineup/results_cache'\n",
    "                          )"
   ]
  },
  {
   "cell_type": "code",
   "execution_count": null,
   "metadata": {},
   "outputs": [],
   "source": [
    "# run this code to read in the additional sample metadata\n",
    "\n",
    "additional_metadata = pd.read_csv('llineup_funestus_extra_metadata.csv')\n",
    "additional_metadata['partner_sample_id'] = additional_metadata['partner_sample_id'].astype(str)"
   ]
  },
  {
   "cell_type": "code",
   "execution_count": null,
   "metadata": {},
   "outputs": [],
   "source": [
    "# run this code to add the additional metadata to the sample metadata available in the package\n",
    "af1.add_extra_metadata(additional_metadata, on='partner_sample_id')"
   ]
  },
  {
   "cell_type": "code",
   "execution_count": null,
   "metadata": {},
   "outputs": [],
   "source": [
    "# run this code to retrieve a dataframe containing the combined sample metadata\n",
    "llineup_sample_set = '1288-VO-UG-DONNELLY-VMF00219'\n",
    "df_samples = af1.sample_metadata(llineup_sample_set)"
   ]
  },
  {
   "cell_type": "code",
   "execution_count": null,
   "metadata": {},
   "outputs": [],
   "source": []
  },
  {
   "cell_type": "code",
   "execution_count": null,
   "metadata": {},
   "outputs": [],
   "source": [
    "from collections import Counter\n",
    "import numpy as np\n",
    "import plotly.express as px\n",
    "import bokeh.io as bkio\n",
    "bkio.output_notebook()\n",
    "import os\n",
    "import pandas as pd\n",
    "import ipyleaflet\n",
    "import allel\n",
    "import matplotlib.pyplot as plt"
   ]
  },
  {
   "cell_type": "code",
   "execution_count": null,
   "metadata": {},
   "outputs": [],
   "source": [
    "pip install plotly==5.18.0"
   ]
  },
  {
   "cell_type": "code",
   "execution_count": null,
   "metadata": {},
   "outputs": [],
   "source": [
    "\n",
    "def tajimas_d_over_genome(self, \n",
    "                          cohort_label=\"cohort_armpp_round\", \n",
    "                          region=\"2RL:60,000,000-80,000,000\", \n",
    "                          df_samples=df_samples, \n",
    "                          sample_sets=llineup_sample_set, \n",
    "                          window_size=20_000):\n",
    "\n",
    "    sample_queries = {v: f\"{cohort_label} == '{v}'\" for v in df_samples[cohort_label]}\n",
    "    tajimas_ds = []\n",
    "    cohorts = []\n",
    "    \n",
    "    for cohort, query in sample_queries.items():\n",
    "        ac = self.snp_allele_counts(region=region, sample_sets=sample_sets, sample_query=query)\n",
    "        pos = self.snp_sites(region=region, field='POS')\n",
    "        \n",
    "        # Calculate Tajima's D\n",
    "        tajimas_d = allel.windowed_tajima_d(ac=ac, pos=pos, size=window_size)\n",
    "        tajimas_ds.append(tajimas_d[0])\n",
    "        \n",
    "        cohorts.append(cohort)\n",
    "\n",
    "    return cohorts, tajimas_ds\n",
    "\n"
   ]
  },
  {
   "cell_type": "markdown",
   "metadata": {},
   "source": [
    "TAJIMA'S D"
   ]
  },
  {
   "cell_type": "code",
   "execution_count": null,
   "metadata": {},
   "outputs": [],
   "source": [
    "cohorts, tajimas_ds = tajimas_d_over_genome(\n",
    "    self=af1, \n",
    "    cohort_label=\"cohort_armpp_round\", \n",
    "    region=\"2RL:60,000,000-80,000,000\", \n",
    "    sample_sets='1288-VO-UG-DONNELLY-VMF00219', \n",
    "    window_size=20_000\n",
    ")\n"
   ]
  },
  {
   "cell_type": "code",
   "execution_count": null,
   "metadata": {},
   "outputs": [],
   "source": [
    "dif_samples = pd.DataFrame (tajimas_ds, index=cohorts)\n",
    "dif_samples =dif_samples.T"
   ]
  },
  {
   "cell_type": "code",
   "execution_count": null,
   "metadata": {},
   "outputs": [],
   "source": [
    "dif_samples.head(3)"
   ]
  },
  {
   "cell_type": "code",
   "execution_count": null,
   "metadata": {},
   "outputs": [],
   "source": [
    "dif_samples=  dif_samples.melt(var_name='cohort_armpp_round', value_name='Tajimas')"
   ]
  },
  {
   "cell_type": "code",
   "execution_count": null,
   "metadata": {},
   "outputs": [],
   "source": [
    "dif_samples"
   ]
  },
  {
   "cell_type": "code",
   "execution_count": null,
   "metadata": {},
   "outputs": [],
   "source": [
    "pi_df = dif_samples.merge(df_samples)"
   ]
  },
  {
   "cell_type": "code",
   "execution_count": null,
   "metadata": {},
   "outputs": [],
   "source": [
    "pi_df"
   ]
  },
  {
   "cell_type": "code",
   "execution_count": null,
   "metadata": {},
   "outputs": [],
   "source": [
    "rnd_dict = {'round_1':'RND == 1', 'round_2':'RND == 2', 'round_3':'RND == 3', 'round_4':'RND == 4', 'round_5':'RND == 5'}\n",
    "\n",
    "{f'round_{i}':f'RND == {i}' for i in np.arange(1,6)}"
   ]
  },
  {
   "cell_type": "code",
   "execution_count": null,
   "metadata": {},
   "outputs": [],
   "source": [
    "pip install kaleido"
   ]
  },
  {
   "cell_type": "code",
   "execution_count": null,
   "metadata": {},
   "outputs": [],
   "source": [
    "import kaleido"
   ]
  },
  {
   "cell_type": "code",
   "execution_count": null,
   "metadata": {},
   "outputs": [],
   "source": [
    "# you will need kaleido installed\n",
    "fig = ppx.box(pi_df, x='cohort_armpp_round', y='Tajimas', color='RND', template=\"plotly_white\")\n",
    "fig.write_image(\"TajimasD.svg\", scale=2) \n",
    "\n"
   ]
  },
  {
   "cell_type": "markdown",
   "metadata": {},
   "source": [
    "TAJIMA'S D"
   ]
  }
 ],
 "metadata": {
  "kernelspec": {
   "display_name": "Python 3 (ipykernel)",
   "language": "python",
   "name": "python3"
  },
  "language_info": {
   "codemirror_mode": {
    "name": "ipython",
    "version": 3
   },
   "file_extension": ".py",
   "mimetype": "text/x-python",
   "name": "python",
   "nbconvert_exporter": "python",
   "pygments_lexer": "ipython3",
   "version": "3.12.3"
  }
 },
 "nbformat": 4,
 "nbformat_minor": 2
}
