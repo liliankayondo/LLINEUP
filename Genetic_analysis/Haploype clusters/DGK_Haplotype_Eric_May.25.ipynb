{
 "cells": [
  {
   "cell_type": "code",
   "execution_count": 1,
   "id": "db5f3fc9",
   "metadata": {},
   "outputs": [],
   "source": [
    "import malariagen_data\n",
    "import allel\n",
    "import numpy as np\n",
    "import scipy\n",
    "import pandas as pd\n",
    "import matplotlib as mpl\n",
    "import matplotlib.pyplot as plt\n",
    "from matplotlib.gridspec import GridSpec\n",
    "import seaborn as sns\n",
    "import re\n",
    "from os import system"
   ]
  },
  {
   "cell_type": "code",
   "execution_count": 2,
   "id": "203110fe",
   "metadata": {},
   "outputs": [],
   "source": [
    "\n",
    "sample_sets = ['1288-VO-UG-DONNELLY-VMF00219', '1231-VO-MULTI-WONDJI-VMF00043', '1240-VO-MZ-KOEKEMOER-VMF00101', '1240-VO-CD-KOEKEMOER-VMF00099',  '1230-VO-GA-CF-AYALA-VMF00045','1236-VO-TZ-OKUMU-VMF00090','1232-VO-KE-OCHOMO-VMF00044']\n",
    "region = \"X:13,625,000-13,675,000\" #### DGK region\n",
    "output_filename = 'DGK_cluster_assignments.csv'\n",
    "sample_query= 'country in [\"Uganda\",\"Kenya\", \"Tanzania\", \"Democratic Republic of Congo\"]'"
   ]
  },
  {
   "cell_type": "code",
   "execution_count": 3,
   "id": "446c0eb9",
   "metadata": {},
   "outputs": [
    {
     "data": {
      "application/javascript": "'use strict';\n(function(root) {\n  function now() {\n    return new Date();\n  }\n\n  const force = true;\n\n  if (typeof root._bokeh_onload_callbacks === \"undefined\" || force === true) {\n    root._bokeh_onload_callbacks = [];\n    root._bokeh_is_loading = undefined;\n  }\n\nconst JS_MIME_TYPE = 'application/javascript';\n  const HTML_MIME_TYPE = 'text/html';\n  const EXEC_MIME_TYPE = 'application/vnd.bokehjs_exec.v0+json';\n  const CLASS_NAME = 'output_bokeh rendered_html';\n\n  /**\n   * Render data to the DOM node\n   */\n  function render(props, node) {\n    const script = document.createElement(\"script\");\n    node.appendChild(script);\n  }\n\n  /**\n   * Handle when an output is cleared or removed\n   */\n  function handleClearOutput(event, handle) {\n    function drop(id) {\n      const view = Bokeh.index.get_by_id(id)\n      if (view != null) {\n        view.model.document.clear()\n        Bokeh.index.delete(view)\n      }\n    }\n\n    const cell = handle.cell;\n\n    const id = cell.output_area._bokeh_element_id;\n    const server_id = cell.output_area._bokeh_server_id;\n\n    // Clean up Bokeh references\n    if (id != null) {\n      drop(id)\n    }\n\n    if (server_id !== undefined) {\n      // Clean up Bokeh references\n      const cmd_clean = \"from bokeh.io.state import curstate; print(curstate().uuid_to_server['\" + server_id + \"'].get_sessions()[0].document.roots[0]._id)\";\n      cell.notebook.kernel.execute(cmd_clean, {\n        iopub: {\n          output: function(msg) {\n            const id = msg.content.text.trim()\n            drop(id)\n          }\n        }\n      });\n      // Destroy server and session\n      const cmd_destroy = \"import bokeh.io.notebook as ion; ion.destroy_server('\" + server_id + \"')\";\n      cell.notebook.kernel.execute(cmd_destroy);\n    }\n  }\n\n  /**\n   * Handle when a new output is added\n   */\n  function handleAddOutput(event, handle) {\n    const output_area = handle.output_area;\n    const output = handle.output;\n\n    // limit handleAddOutput to display_data with EXEC_MIME_TYPE content only\n    if ((output.output_type != \"display_data\") || (!Object.prototype.hasOwnProperty.call(output.data, EXEC_MIME_TYPE))) {\n      return\n    }\n\n    const toinsert = output_area.element.find(\".\" + CLASS_NAME.split(' ')[0]);\n\n    if (output.metadata[EXEC_MIME_TYPE][\"id\"] !== undefined) {\n      toinsert[toinsert.length - 1].firstChild.textContent = output.data[JS_MIME_TYPE];\n      // store reference to embed id on output_area\n      output_area._bokeh_element_id = output.metadata[EXEC_MIME_TYPE][\"id\"];\n    }\n    if (output.metadata[EXEC_MIME_TYPE][\"server_id\"] !== undefined) {\n      const bk_div = document.createElement(\"div\");\n      bk_div.innerHTML = output.data[HTML_MIME_TYPE];\n      const script_attrs = bk_div.children[0].attributes;\n      for (let i = 0; i < script_attrs.length; i++) {\n        toinsert[toinsert.length - 1].firstChild.setAttribute(script_attrs[i].name, script_attrs[i].value);\n        toinsert[toinsert.length - 1].firstChild.textContent = bk_div.children[0].textContent\n      }\n      // store reference to server id on output_area\n      output_area._bokeh_server_id = output.metadata[EXEC_MIME_TYPE][\"server_id\"];\n    }\n  }\n\n  function register_renderer(events, OutputArea) {\n\n    function append_mime(data, metadata, element) {\n      // create a DOM node to render to\n      const toinsert = this.create_output_subarea(\n        metadata,\n        CLASS_NAME,\n        EXEC_MIME_TYPE\n      );\n      this.keyboard_manager.register_events(toinsert);\n      // Render to node\n      const props = {data: data, metadata: metadata[EXEC_MIME_TYPE]};\n      render(props, toinsert[toinsert.length - 1]);\n      element.append(toinsert);\n      return toinsert\n    }\n\n    /* Handle when an output is cleared or removed */\n    events.on('clear_output.CodeCell', handleClearOutput);\n    events.on('delete.Cell', handleClearOutput);\n\n    /* Handle when a new output is added */\n    events.on('output_added.OutputArea', handleAddOutput);\n\n    /**\n     * Register the mime type and append_mime function with output_area\n     */\n    OutputArea.prototype.register_mime_type(EXEC_MIME_TYPE, append_mime, {\n      /* Is output safe? */\n      safe: true,\n      /* Index of renderer in `output_area.display_order` */\n      index: 0\n    });\n  }\n\n  // register the mime type if in Jupyter Notebook environment and previously unregistered\n  if (root.Jupyter !== undefined) {\n    const events = require('base/js/events');\n    const OutputArea = require('notebook/js/outputarea').OutputArea;\n\n    if (OutputArea.prototype.mime_types().indexOf(EXEC_MIME_TYPE) == -1) {\n      register_renderer(events, OutputArea);\n    }\n  }\n  if (typeof (root._bokeh_timeout) === \"undefined\" || force === true) {\n    root._bokeh_timeout = Date.now() + 5000;\n    root._bokeh_failed_load = false;\n  }\n\n  const NB_LOAD_WARNING = {'data': {'text/html':\n     \"<div style='background-color: #fdd'>\\n\"+\n     \"<p>\\n\"+\n     \"BokehJS does not appear to have successfully loaded. If loading BokehJS from CDN, this \\n\"+\n     \"may be due to a slow or bad network connection. Possible fixes:\\n\"+\n     \"</p>\\n\"+\n     \"<ul>\\n\"+\n     \"<li>re-rerun `output_notebook()` to attempt to load from CDN again, or</li>\\n\"+\n     \"<li>use INLINE resources instead, as so:</li>\\n\"+\n     \"</ul>\\n\"+\n     \"<code>\\n\"+\n     \"from bokeh.resources import INLINE\\n\"+\n     \"output_notebook(resources=INLINE)\\n\"+\n     \"</code>\\n\"+\n     \"</div>\"}};\n\n  function display_loaded(error = null) {\n    const el = document.getElementById(null);\n    if (el != null) {\n      const html = (() => {\n        if (typeof root.Bokeh === \"undefined\") {\n          if (error == null) {\n            return \"BokehJS is loading ...\";\n          } else {\n            return \"BokehJS failed to load.\";\n          }\n        } else {\n          const prefix = `BokehJS ${root.Bokeh.version}`;\n          if (error == null) {\n            return `${prefix} successfully loaded.`;\n          } else {\n            return `${prefix} <b>encountered errors</b> while loading and may not function as expected.`;\n          }\n        }\n      })();\n      el.innerHTML = html;\n\n      if (error != null) {\n        const wrapper = document.createElement(\"div\");\n        wrapper.style.overflow = \"auto\";\n        wrapper.style.height = \"5em\";\n        wrapper.style.resize = \"vertical\";\n        const content = document.createElement(\"div\");\n        content.style.fontFamily = \"monospace\";\n        content.style.whiteSpace = \"pre-wrap\";\n        content.style.backgroundColor = \"rgb(255, 221, 221)\";\n        content.textContent = error.stack ?? error.toString();\n        wrapper.append(content);\n        el.append(wrapper);\n      }\n    } else if (Date.now() < root._bokeh_timeout) {\n      setTimeout(() => display_loaded(error), 100);\n    }\n  }\n\n  function run_callbacks() {\n    try {\n      root._bokeh_onload_callbacks.forEach(function(callback) {\n        if (callback != null)\n          callback();\n      });\n    } finally {\n      delete root._bokeh_onload_callbacks\n    }\n    console.debug(\"Bokeh: all callbacks have finished\");\n  }\n\n  function load_libs(css_urls, js_urls, callback) {\n    if (css_urls == null) css_urls = [];\n    if (js_urls == null) js_urls = [];\n\n    root._bokeh_onload_callbacks.push(callback);\n    if (root._bokeh_is_loading > 0) {\n      console.debug(\"Bokeh: BokehJS is being loaded, scheduling callback at\", now());\n      return null;\n    }\n    if (js_urls == null || js_urls.length === 0) {\n      run_callbacks();\n      return null;\n    }\n    console.debug(\"Bokeh: BokehJS not loaded, scheduling load and callback at\", now());\n    root._bokeh_is_loading = css_urls.length + js_urls.length;\n\n    function on_load() {\n      root._bokeh_is_loading--;\n      if (root._bokeh_is_loading === 0) {\n        console.debug(\"Bokeh: all BokehJS libraries/stylesheets loaded\");\n        run_callbacks()\n      }\n    }\n\n    function on_error(url) {\n      console.error(\"failed to load \" + url);\n    }\n\n    for (let i = 0; i < css_urls.length; i++) {\n      const url = css_urls[i];\n      const element = document.createElement(\"link\");\n      element.onload = on_load;\n      element.onerror = on_error.bind(null, url);\n      element.rel = \"stylesheet\";\n      element.type = \"text/css\";\n      element.href = url;\n      console.debug(\"Bokeh: injecting link tag for BokehJS stylesheet: \", url);\n      document.body.appendChild(element);\n    }\n\n    for (let i = 0; i < js_urls.length; i++) {\n      const url = js_urls[i];\n      const element = document.createElement('script');\n      element.onload = on_load;\n      element.onerror = on_error.bind(null, url);\n      element.async = false;\n      element.src = url;\n      console.debug(\"Bokeh: injecting script tag for BokehJS library: \", url);\n      document.head.appendChild(element);\n    }\n  };\n\n  function inject_raw_css(css) {\n    const element = document.createElement(\"style\");\n    element.appendChild(document.createTextNode(css));\n    document.body.appendChild(element);\n  }\n\n  const js_urls = [\"https://cdn.bokeh.org/bokeh/release/bokeh-3.7.0.min.js\", \"https://cdn.bokeh.org/bokeh/release/bokeh-gl-3.7.0.min.js\", \"https://cdn.bokeh.org/bokeh/release/bokeh-widgets-3.7.0.min.js\", \"https://cdn.bokeh.org/bokeh/release/bokeh-tables-3.7.0.min.js\", \"https://cdn.bokeh.org/bokeh/release/bokeh-mathjax-3.7.0.min.js\"];\n  const css_urls = [];\n\n  const inline_js = [    function(Bokeh) {\n      Bokeh.set_log_level(\"info\");\n    },\nfunction(Bokeh) {\n    }\n  ];\n\n  function run_inline_js() {\n    if (root.Bokeh !== undefined || force === true) {\n      try {\n            for (let i = 0; i < inline_js.length; i++) {\n      inline_js[i].call(root, root.Bokeh);\n    }\n\n      } catch (error) {throw error;\n      }} else if (Date.now() < root._bokeh_timeout) {\n      setTimeout(run_inline_js, 100);\n    } else if (!root._bokeh_failed_load) {\n      console.log(\"Bokeh: BokehJS failed to load within specified timeout.\");\n      root._bokeh_failed_load = true;\n    } else if (force !== true) {\n      const cell = $(document.getElementById(null)).parents('.cell').data().cell;\n      cell.output_area.append_execute_result(NB_LOAD_WARNING)\n    }\n  }\n\n  if (root._bokeh_is_loading === 0) {\n    console.debug(\"Bokeh: BokehJS loaded, going straight to plotting\");\n    run_inline_js();\n  } else {\n    load_libs(css_urls, js_urls, function() {\n      console.debug(\"Bokeh: BokehJS plotting callback run at\", now());\n      run_inline_js();\n    });\n  }\n}(window));",
      "application/vnd.bokehjs_load.v0+json": ""
     },
     "metadata": {},
     "output_type": "display_data"
    },
    {
     "data": {
      "text/html": [
       "\n",
       "            <table class=\"malariagen-af1\">\n",
       "                <thead>\n",
       "                    <tr>\n",
       "                        <th style=\"text-align: left\" colspan=\"2\">MalariaGEN Af1 API client</th>\n",
       "                    </tr>\n",
       "                    <tr><td colspan=\"2\" style=\"text-align: left\">\n",
       "                        Please note that data are subject to terms of use,\n",
       "                        for more information see <a href=\"https://www.malariagen.net/data\">\n",
       "                        the MalariaGEN website</a> or contact support@malariagen.net.\n",
       "                        See also the <a href=\"https://malariagen.github.io/malariagen-data-python/v15.0.1/Af1.html\">Af1 API docs</a>.\n",
       "                    </td></tr>\n",
       "                </thead>\n",
       "                <tbody>\n",
       "                    <tr>\n",
       "                        <th style=\"text-align: left\">\n",
       "                            Storage URL\n",
       "                        </th>\n",
       "                        <td>gs://vo_afun_release_master_us_central1/</td>\n",
       "                    </tr>\n",
       "                    <tr>\n",
       "                        <th style=\"text-align: left\">\n",
       "                            Data releases available\n",
       "                        </th>\n",
       "                        <td>1.0, 1.1, 1.2, 1.3, 1.4</td>\n",
       "                    </tr>\n",
       "                    <tr>\n",
       "                        <th style=\"text-align: left\">\n",
       "                            Results cache\n",
       "                        </th>\n",
       "                        <td>/home/namulil/lstm_data/funestus_llineup/notebooks/tagging_snps/home/namulil/lstm_projects/funestus_llineup/results_cache</td>\n",
       "                    </tr>\n",
       "                    <tr>\n",
       "                        <th style=\"text-align: left\">\n",
       "                            Cohorts analysis\n",
       "                        </th>\n",
       "                        <td>20240515</td>\n",
       "                    </tr>\n",
       "                    <tr>\n",
       "                        <th style=\"text-align: left\">\n",
       "                            Site filters analysis\n",
       "                        </th>\n",
       "                        <td>dt_20200416</td>\n",
       "                    </tr>\n",
       "                    <tr>\n",
       "                        <th style=\"text-align: left\">\n",
       "                            Software version\n",
       "                        </th>\n",
       "                        <td>malariagen_data 15.0.1</td>\n",
       "                    </tr>\n",
       "                    <tr>\n",
       "                        <th style=\"text-align: left\">\n",
       "                            Client location\n",
       "                        </th>\n",
       "                        <td>England, United Kingdom</td>\n",
       "                    </tr>\n",
       "                </tbody>\n",
       "            </table>\n",
       "        "
      ],
      "text/plain": [
       "<MalariaGEN Af1 API client>\n",
       "Storage URL             : gs://vo_afun_release_master_us_central1/\n",
       "Data releases available : 1.0, 1.1, 1.2, 1.3, 1.4\n",
       "Results cache           : /home/namulil/lstm_data/funestus_llineup/notebooks/tagging_snps/home/namulil/lstm_projects/funestus_llineup/results_cache\n",
       "Cohorts analysis        : 20240515\n",
       "Site filters analysis   : dt_20200416\n",
       "Software version        : malariagen_data 15.0.1\n",
       "Client location         : England, United Kingdom\n",
       "---\n",
       "Please note that data are subject to terms of use,\n",
       "for more information see https://www.malariagen.net/data\n",
       "or contact support@malariagen.net. For API documentation see \n",
       "https://malariagen.github.io/malariagen-data-python/v15.0.1/Af1.html"
      ]
     },
     "execution_count": 3,
     "metadata": {},
     "output_type": "execute_result"
    }
   ],
   "source": [
    "\n",
    "af1 = malariagen_data.Af1(pre=True,\n",
    "                          gcs_cache='/home/namulil/lstm_projects/funestus_llineup/gcs_cache',\n",
    "                          results_cache='home/namulil/lstm_projects/funestus_llineup/results_cache'\n",
    "                          )\n",
    "af1"
   ]
  },
  {
   "cell_type": "code",
   "execution_count": 4,
   "id": "e71fa620",
   "metadata": {},
   "outputs": [
    {
     "name": "stdout",
     "output_type": "stream",
     "text": [
      "                                     \r"
     ]
    }
   ],
   "source": [
    "meta = af1.sample_metadata(sample_sets = sample_sets)"
   ]
  },
  {
   "cell_type": "code",
   "execution_count": 5,
   "id": "f849aded",
   "metadata": {},
   "outputs": [
    {
     "name": "stdout",
     "output_type": "stream",
     "text": [
      "                                  \r"
     ]
    }
   ],
   "source": [
    "# Get the haplotypes from the region of interest\n",
    "haps = af1.haplotypes(\n",
    "    region = region,\n",
    "    analysis = 'funestus', \n",
    "    sample_sets = sample_sets,\n",
    "    sample_query= sample_query,\n",
    "    \n",
    "\n",
    ")\n"
   ]
  },
  {
   "cell_type": "code",
   "execution_count": 6,
   "id": "1f1e253a",
   "metadata": {},
   "outputs": [],
   "source": [
    "## acess numpy hap array using the key call_genotype\n",
    "\n",
    "haparray = allel.GenotypeArray(haps['call_genotype']).to_haplotypes()## we convert the geotype array to haplotypes\n",
    "\n",
    "\n",
    "# Get allele counts\n",
    "ac = haparray.count_alleles()## aaray with allele counts rows= counts in samples, columns =sites/ genomic regions "
   ]
  },
  {
   "cell_type": "code",
   "execution_count": 7,
   "id": "fae7300c",
   "metadata": {},
   "outputs": [
    {
     "name": "stdout",
     "output_type": "stream",
     "text": [
      "                                 \r"
     ]
    }
   ],
   "source": [
    "# Identify segregating non-singletons. \n",
    "#non_singleton = ac.min(1) > 1\n",
    "# Filter the datasets, removing non-segregating and singleton variants \n",
    "#haps = haps.isel(variants = np.where(non_singleton)[0])\n",
    "#haparray = haparray[non_singleton]\n",
    "\n",
    "hapsamples = np.array(np.repeat(haps['sample_id'], 2))\n",
    "dist = allel.pairwise_distance(haparray, metric = 'hamming')\n",
    "\n",
    "site_filter = af1.snp_calls(region=region, sample_sets= sample_sets)['variant_filter_pass_funestus']\n",
    "n_bases = np.sum(site_filter.values)\n",
    "dist_dxy = dist * haparray.n_variants / n_bases\n",
    "\n",
    "z = scipy.cluster.hierarchy.linkage(dist_dxy, method=\"complete\")"
   ]
  },
  {
   "cell_type": "code",
   "execution_count": 8,
   "id": "aa4fd6ee",
   "metadata": {},
   "outputs": [
    {
     "name": "stdout",
     "output_type": "stream",
     "text": [
      "There were 4 clusters larger than 20 haplotypes.\n"
     ]
    }
   ],
   "source": [
    "def find_clusters(clust, n, threshold=0.001, method='complete'):### how we create and cluster selection sweeps in our samples \n",
    "\n",
    "        # find clusters\n",
    "        f = scipy.cluster.hierarchy.fcluster(clust, threshold,\n",
    "                                             criterion='distance')\n",
    "        # compute cluster sizes\n",
    "        fsz = np.bincount(f)\n",
    "        # sort largest first\n",
    "        fsort = np.argsort(fsz)[::-1]\n",
    "        # take largest n\n",
    "        fsort = fsort[:n]\n",
    "        # get haplotype indices for each cluster\n",
    "        clusters = [set(np.nonzero(f == i)[0]) for i in fsort]\n",
    "        return clusters\n",
    "\n",
    "    \n",
    "focal_clusters = find_clusters(z, n=50, threshold=0.001)\n",
    "\n",
    "min_cluster_size = 20\n",
    "large_focal_clusters = [cluster for cluster in focal_clusters if len(cluster) > min_cluster_size]\n",
    "print(f'There were {len(large_focal_clusters)} clusters larger than {min_cluster_size} haplotypes.')\n"
   ]
  },
  {
   "cell_type": "code",
   "execution_count": 9,
   "id": "829f3c94",
   "metadata": {},
   "outputs": [],
   "source": [
    "def assign_sample_haplotypes(cluster_ids):\n",
    "    cluster_samples = hapsamples[list(cluster_ids)]\n",
    "    sample_hap_genotype = meta.sample_id.apply(lambda x: np.sum(np.isin(cluster_samples, x)))\n",
    "    return(sample_hap_genotype)\n",
    "\n",
    "for i in range(len(large_focal_clusters)):\n",
    "    meta[f'cluster_{i+1}'] = assign_sample_haplotypes(large_focal_clusters[i])\n",
    "\n",
    "output_table = meta[['sample_id'] + [f'cluster_{i+1}' for i in range(len(large_focal_clusters))]]\n",
    "\n",
    "output_table.to_csv(output_filename, sep = '\\t', index_label = 'sample_name')"
   ]
  },
  {
   "cell_type": "code",
   "execution_count": 10,
   "id": "583883ab",
   "metadata": {},
   "outputs": [
    {
     "data": {
      "text/html": [
       "<div>\n",
       "<style scoped>\n",
       "    .dataframe tbody tr th:only-of-type {\n",
       "        vertical-align: middle;\n",
       "    }\n",
       "\n",
       "    .dataframe tbody tr th {\n",
       "        vertical-align: top;\n",
       "    }\n",
       "\n",
       "    .dataframe thead th {\n",
       "        text-align: right;\n",
       "    }\n",
       "</style>\n",
       "<table border=\"1\" class=\"dataframe\">\n",
       "  <thead>\n",
       "    <tr style=\"text-align: right;\">\n",
       "      <th></th>\n",
       "      <th>sample_id</th>\n",
       "      <th>cluster_1</th>\n",
       "      <th>cluster_2</th>\n",
       "      <th>cluster_3</th>\n",
       "      <th>cluster_4</th>\n",
       "    </tr>\n",
       "  </thead>\n",
       "  <tbody>\n",
       "    <tr>\n",
       "      <th>0</th>\n",
       "      <td>VBS17729</td>\n",
       "      <td>0</td>\n",
       "      <td>0</td>\n",
       "      <td>0</td>\n",
       "      <td>0</td>\n",
       "    </tr>\n",
       "    <tr>\n",
       "      <th>1</th>\n",
       "      <td>VBS17730</td>\n",
       "      <td>0</td>\n",
       "      <td>0</td>\n",
       "      <td>0</td>\n",
       "      <td>0</td>\n",
       "    </tr>\n",
       "    <tr>\n",
       "      <th>2</th>\n",
       "      <td>VBS17731</td>\n",
       "      <td>0</td>\n",
       "      <td>0</td>\n",
       "      <td>0</td>\n",
       "      <td>0</td>\n",
       "    </tr>\n",
       "    <tr>\n",
       "      <th>3</th>\n",
       "      <td>VBS17732</td>\n",
       "      <td>0</td>\n",
       "      <td>0</td>\n",
       "      <td>0</td>\n",
       "      <td>0</td>\n",
       "    </tr>\n",
       "    <tr>\n",
       "      <th>4</th>\n",
       "      <td>VBS17733</td>\n",
       "      <td>0</td>\n",
       "      <td>0</td>\n",
       "      <td>0</td>\n",
       "      <td>0</td>\n",
       "    </tr>\n",
       "    <tr>\n",
       "      <th>...</th>\n",
       "      <td>...</td>\n",
       "      <td>...</td>\n",
       "      <td>...</td>\n",
       "      <td>...</td>\n",
       "      <td>...</td>\n",
       "    </tr>\n",
       "    <tr>\n",
       "      <th>1689</th>\n",
       "      <td>VBS67003-6645STDY13057647</td>\n",
       "      <td>0</td>\n",
       "      <td>0</td>\n",
       "      <td>0</td>\n",
       "      <td>0</td>\n",
       "    </tr>\n",
       "    <tr>\n",
       "      <th>1690</th>\n",
       "      <td>VBS67004-6645STDY13057648</td>\n",
       "      <td>0</td>\n",
       "      <td>0</td>\n",
       "      <td>0</td>\n",
       "      <td>0</td>\n",
       "    </tr>\n",
       "    <tr>\n",
       "      <th>1691</th>\n",
       "      <td>VBS67006-6645STDY13057650</td>\n",
       "      <td>1</td>\n",
       "      <td>0</td>\n",
       "      <td>0</td>\n",
       "      <td>0</td>\n",
       "    </tr>\n",
       "    <tr>\n",
       "      <th>1692</th>\n",
       "      <td>VBS67007-6645STDY13057651</td>\n",
       "      <td>1</td>\n",
       "      <td>1</td>\n",
       "      <td>0</td>\n",
       "      <td>0</td>\n",
       "    </tr>\n",
       "    <tr>\n",
       "      <th>1693</th>\n",
       "      <td>VBS67008-6645STDY13057652</td>\n",
       "      <td>1</td>\n",
       "      <td>0</td>\n",
       "      <td>0</td>\n",
       "      <td>0</td>\n",
       "    </tr>\n",
       "  </tbody>\n",
       "</table>\n",
       "<p>1694 rows × 5 columns</p>\n",
       "</div>"
      ],
      "text/plain": [
       "                      sample_id  cluster_1  cluster_2  cluster_3  cluster_4\n",
       "0                      VBS17729          0          0          0          0\n",
       "1                      VBS17730          0          0          0          0\n",
       "2                      VBS17731          0          0          0          0\n",
       "3                      VBS17732          0          0          0          0\n",
       "4                      VBS17733          0          0          0          0\n",
       "...                         ...        ...        ...        ...        ...\n",
       "1689  VBS67003-6645STDY13057647          0          0          0          0\n",
       "1690  VBS67004-6645STDY13057648          0          0          0          0\n",
       "1691  VBS67006-6645STDY13057650          1          0          0          0\n",
       "1692  VBS67007-6645STDY13057651          1          1          0          0\n",
       "1693  VBS67008-6645STDY13057652          1          0          0          0\n",
       "\n",
       "[1694 rows x 5 columns]"
      ]
     },
     "execution_count": 10,
     "metadata": {},
     "output_type": "execute_result"
    }
   ],
   "source": [
    "output_table"
   ]
  },
  {
   "cell_type": "code",
   "execution_count": 11,
   "id": "4695d36d",
   "metadata": {},
   "outputs": [],
   "source": [
    "# Now we want to work out the sequence of each haplotype\n",
    "window_alleles = pd.concat((\n",
    "    pd.DataFrame({'Chrom': [haps.contigs[x] for x in haps['variant_contig'].values]}),\n",
    "    haps['variant_position'].to_pandas().rename('Pos'),\n",
    "    haps['variant_allele'].astype('str').to_pandas().set_axis(['Ref', 'Alt'], axis = 1)),\n",
    "    axis = 1\n",
    ")\n",
    "\n",
    "remove_rows = np.full(window_alleles.shape[0], True)\n",
    "for i in range(len(large_focal_clusters)):\n",
    "    cluster_haparray = haparray[:, list(large_focal_clusters[i])]\n",
    "    # We want a table that shows, for each position, the ref, the alt, and the number of\n",
    "    # each in the haplotypes\n",
    "    n_alt = np.sum(cluster_haparray, axis = 1)\n",
    "    window_alleles[f'n_Ref_cluster_{i+1}'] = cluster_haparray.shape[1] - n_alt\n",
    "    window_alleles[f'n_Alt_cluster_{i+1}'] = n_alt\n",
    "    remove_rows = remove_rows & (n_alt == 0)\n",
    "\n",
    "non_cluster = set(range(haparray.shape[1])).difference(*large_focal_clusters)\n",
    "non_cluster_haparray = haparray[:, list(non_cluster)]\n",
    "n_alt_non_cluster = np.sum(non_cluster_haparray, axis = 1)\n",
    "window_alleles[f'n_Ref_non_cluster'] = non_cluster_haparray.shape[1] - n_alt_non_cluster\n",
    "window_alleles[f'n_Alt_non_cluster'] = n_alt_non_cluster\n",
    "\n",
    "# We want to remove the rows where all clusters are fully Ref.\n",
    "window_alleles = window_alleles.loc[~remove_rows, :]\n",
    "\n",
    "haparray_output_filename = re.sub('\\.[^.]+$', '_hap_sequence.csv', output_filename)\n",
    "window_alleles.to_csv(haparray_output_filename, sep = '\\t', index = False)\n",
    "\n"
   ]
  },
  {
   "cell_type": "code",
   "execution_count": 12,
   "id": "9119f764",
   "metadata": {},
   "outputs": [],
   "source": [
    "# Some plotting functions\n",
    "def truspan(cluster, r):\n",
    "    # get the index of the cluster haps in the dendrogram list of all haps\n",
    "    cluster_leaves = sorted([r['leaves'].index(i) for i in cluster])\n",
    "    # are these indices monotonic - they should be!\n",
    "    x = np.asarray(cluster_leaves)\n",
    "    dx = np.diff(x)\n",
    "    mon = np.all(dx == 1)\n",
    "    assert mon\n",
    "    return min(cluster_leaves), max(cluster_leaves)\n",
    "\n",
    "def plot_dendrogram(zhier, ax, h, method='complete', color_threshold=0, above_threshold_color='k'):\n",
    "\n",
    "    # plot dendrogram\n",
    "    sns.despine(ax=ax, offset=5, bottom=True, top=False)\n",
    "    r = scipy.cluster.hierarchy.dendrogram(zhier, no_labels=True, count_sort=True,\n",
    "                                           color_threshold=color_threshold,\n",
    "                                           above_threshold_color=above_threshold_color,\n",
    "                                           ax=ax)\n",
    "    xmin, xmax = ax.xaxis.get_data_interval()\n",
    "    xticklabels = np.array(list(range(0, h.shape[1], 200)) + [h.shape[1]])\n",
    "    xticks = xticklabels / h.shape[1]\n",
    "    xticks = (xticks * (xmax - xmin)) + xmin\n",
    "    ax.set_xticks(xticks)\n",
    "    ax.set_xticklabels(xticklabels)\n",
    "    #ax.set_xlabel('Haplotypes')\n",
    "    ax.xaxis.set_label_position('top')\n",
    "    ax.set_ylim(bottom=-.0001)\n",
    "\n",
    "    ax.set_ylabel(r'$d_{xy}$')\n",
    "    ax.autoscale(axis='x', tight=True)\n",
    "    return r\n",
    "\n",
    "def draw_hap_cluster_plot(z, h, cluster_labels, vspans,\n",
    "                          colour_schemes, labels, label_names,\n",
    "                          add_legend = True, title = '',\n",
    "                          fn = None):\n",
    "\n",
    "    gs = GridSpec(len(colour_schemes)+2, 1, height_ratios=[6.0, 0.3] + [0.4]*len(colour_schemes))\n",
    "    fig = plt.figure(figsize=(15, 7 + 0.58 * len(colour_schemes)))\n",
    "\n",
    "    plt.subplots_adjust(hspace=0.02)\n",
    "    ax1 = plt.subplot(gs[0])\n",
    "    sns.despine(ax=ax1, offset=5, bottom=True, top=True)\n",
    "    r = plot_dendrogram(z, ax1, h)\n",
    "    ax1.spines['top'].set_visible(False)\n",
    "    ax1.set_xticks([])\n",
    "    ax1.set_ylim(0)\n",
    "\n",
    "    if add_legend:\n",
    "        plot_x_range = ax1.get_xlim()[1] - ax1.get_xlim()[0]\n",
    "        plot_y_range = ax1.get_ylim()[1] - ax1.get_ylim()[0]\n",
    "        legend_x = ax1.get_xlim()[0] + plot_x_range * 0.95\n",
    "\n",
    "    ax_clu = fig.add_subplot(gs[1])\n",
    "    sns.despine(ax=ax_clu, bottom=True, left=True)\n",
    "    ax_clu.set_xlim(0, h.shape[1])\n",
    "    ax_clu.set_ylim(0, 1)\n",
    "    for lbl, (xmin, xmax) in zip(cluster_labels, vspans):\n",
    "        if lbl:\n",
    "            # hack to get the \"fraction\" right, which controls length of bracket arms\n",
    "            fraction = -2 / (xmax - xmin)\n",
    "            ax_clu.annotate(\"\", ha='left', va='center',\n",
    "                            xy=(xmin, 1), xycoords='data',\n",
    "                            xytext=(xmax, 1), textcoords='data',\n",
    "                            arrowprops=dict(arrowstyle=\"-\",\n",
    "                                            connectionstyle=\"bar,fraction=%.4f\" % fraction,\n",
    "                                            ),\n",
    "                            )\n",
    "            ax_clu.text((xmax + xmin)/2, 0.7, lbl, va='top', ha='center')\n",
    "    ax_clu.set_xticks([])\n",
    "    ax_clu.set_yticks([])\n",
    "\n",
    "    legend_offset = 0\n",
    "    for i in range(len(colour_schemes)):\n",
    "        this_ax = fig.add_subplot(gs[i+2])\n",
    "\n",
    "        l = labels[i].take(r['leaves'])\n",
    "        hap_clrs = [colour_schemes[i][p] for p in l]\n",
    "        this_ax.broken_barh(xranges=[(i, 1) for i in range(h.shape[1])],\n",
    "                            yrange=(0, 1),\n",
    "                            color=hap_clrs);\n",
    "        sns.despine(ax=this_ax, offset=5, left=True, bottom=True, top=True)\n",
    "\n",
    "        this_ax.set_xticks([])\n",
    "        this_ax.set_yticks([])\n",
    "        this_ax.set_xlim(0, h.shape[1])\n",
    "        this_ax.yaxis.set_label_position('left')\n",
    "        this_ax.set_ylabel(label_names[i], rotation=0, ha='right', va='center')\n",
    "\n",
    "        if add_legend:       \n",
    "            unique_label = np.unique(l)\n",
    "            for j, k in enumerate(unique_label[::-1]):\n",
    "                legend_y = ax1.get_ylim()[0] + plot_y_range * (0.2 + legend_offset)\n",
    "                ax1.add_patch(mpl.patches.Rectangle((legend_x,legend_y), plot_x_range/50,plot_y_range/15, color = colour_schemes[i][k]))\n",
    "                ax1.text(legend_x*1.03,legend_y + plot_y_range / 50, k)\n",
    "                legend_offset += 0.1\n",
    "            legend_offset += 0.05\n",
    "\n",
    "\n",
    "\n",
    "    ax1.set_title(f'{title}')\n",
    "    ax1.autoscale()\n",
    "    fig.patch.set_alpha(1)\n",
    "    \n",
    "    if fn != None:\n",
    "        ext = re.sub('.*\\.', '', fn)\n",
    "        plt.savefig(fn, format = ext)\n",
    "\n",
    "\n",
    "\n"
   ]
  },
  {
   "cell_type": "code",
   "execution_count": 13,
   "id": "442f8cdf",
   "metadata": {},
   "outputs": [],
   "source": [
    "r = scipy.cluster.hierarchy.dendrogram(\n",
    "        z, no_labels=True, count_sort=True,\n",
    "        color_threshold=0, no_plot=True,\n",
    "        above_threshold_color='k')\n",
    "\n",
    "v_span = [truspan(cluster, r) for cluster in large_focal_clusters]"
   ]
  },
  {
   "cell_type": "code",
   "execution_count": 14,
   "id": "e92450b8",
   "metadata": {},
   "outputs": [],
   "source": [
    "#hap_meta = pd.DataFrame(np.repeat(meta.values, 2, axis=0), columns=meta.columns)\n",
    "#print(hap_meta.shape)"
   ]
  },
  {
   "cell_type": "code",
   "execution_count": 15,
   "id": "1f187004",
   "metadata": {},
   "outputs": [
    {
     "name": "stdout",
     "output_type": "stream",
     "text": [
      "(4110, 2580)\n"
     ]
    }
   ],
   "source": [
    "print(haparray.shape)"
   ]
  },
  {
   "cell_type": "code",
   "execution_count": 16,
   "id": "f5f11f60",
   "metadata": {},
   "outputs": [],
   "source": [
    "###trying to subset meta tho not done with yesterdays run\n",
    "n_haps = haparray.shape[1]\n",
    "n_samples = n_haps // 2\n",
    "meta = meta.iloc[:n_samples].reset_index(drop=True)"
   ]
  },
  {
   "cell_type": "code",
   "execution_count": 17,
   "id": "3a9c9480",
   "metadata": {},
   "outputs": [],
   "source": [
    "hap_meta = pd.DataFrame(np.repeat(meta.values, 2, axis=0), columns=meta.columns)\n",
    "assert hap_meta.shape[0] == haparray.shape[1], \"hap_meta and haparray are still mismatched\"\n"
   ]
  },
  {
   "cell_type": "code",
   "execution_count": 18,
   "id": "75f58c3f",
   "metadata": {},
   "outputs": [],
   "source": [
    "country_colours = {\n",
    "    'Kenya': 'red', \n",
    "    'Tanzania': 'navy', \n",
    "    'Uganda': 'lightgreen'\n",
    "}\n",
    "\n",
    "mask = hap_meta['country'].isin(country_colours.keys())\n",
    "hap_meta = hap_meta[mask].reset_index(drop=True)\n",
    "haparray = haparray[:, mask.values]  \n"
   ]
  },
  {
   "cell_type": "code",
   "execution_count": 19,
   "id": "9e928521",
   "metadata": {},
   "outputs": [
    {
     "name": "stdout",
     "output_type": "stream",
     "text": [
      "(4110, 1772)\n"
     ]
    }
   ],
   "source": [
    "print(haparray.shape)"
   ]
  },
  {
   "cell_type": "code",
   "execution_count": 20,
   "id": "50a7802f",
   "metadata": {},
   "outputs": [],
   "source": [
    "## also trying this although I dint need it with yesterday run\n",
    "\n",
    "import scipy.cluster.hierarchy as sch\n",
    "\n",
    "z = sch.linkage(haparray.T, method='complete', metric='hamming')\n",
    "\n",
    "z = sch.linkage(haparray.T, method='complete', metric='hamming')"
   ]
  },
  {
   "cell_type": "code",
   "execution_count": 23,
   "id": "75fc24d7",
   "metadata": {},
   "outputs": [
    {
     "data": {
      "image/png": "[encoded data removed]",
      "text/plain": [
       "<Figure size 1500x758 with 3 Axes>"
      ]
     },
     "metadata": {},
     "output_type": "display_data"
    }
   ],
   "source": [
    "\n",
    "\n",
    "\n",
    "\n",
    "Dup_hap_status = np.array(['Absent', 'Present'])[pd.DataFrame(haparray).apply(np.max, 1)]\n",
    "draw_hap_cluster_plot(z, haparray, \n",
    "                      cluster_labels = range(1, len(large_focal_clusters) + 1), vspans = v_span,\n",
    "                      colour_schemes = [country_colours],\n",
    "                      labels = [hap_meta['country']],\n",
    "                      label_names = ['Country'],\n",
    "                      title = 'DGK_region',\n",
    "                      fn = 'DGK_region.svg'\n",
    ")"
   ]
  }
 ],
 "metadata": {
  "kernelspec": {
   "display_name": "my-conda-env",
   "language": "python",
   "name": "my-conda-env"
  },
  "language_info": {
   "codemirror_mode": {
    "name": "ipython",
    "version": 3
   },
   "file_extension": ".py",
   "mimetype": "text/x-python",
   "name": "python",
   "nbconvert_exporter": "python",
   "pygments_lexer": "ipython3",
   "version": "3.11.7"
  }
 },
 "nbformat": 4,
 "nbformat_minor": 5
}
