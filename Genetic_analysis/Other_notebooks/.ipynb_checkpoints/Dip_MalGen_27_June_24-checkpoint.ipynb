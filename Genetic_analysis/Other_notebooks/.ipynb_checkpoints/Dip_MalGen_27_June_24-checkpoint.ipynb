{
 "cells": [
  {
   "cell_type": "code",
   "execution_count": null,
   "metadata": {},
   "outputs": [],
   "source": [
    "%pip install malariagen_data==13.4.0 qqqq"
   ]
  },
  {
   "cell_type": "code",
   "execution_count": null,
   "metadata": {},
   "outputs": [],
   "source": [
    "pip install scipy"
   ]
  },
  {
   "cell_type": "code",
   "execution_count": null,
   "metadata": {},
   "outputs": [],
   "source": [
    "import numpy as np\n",
    "import pandas as pd\n",
    "import malariagen_data\n",
    "import allel\n",
    "import numba\n",
    "import scipy\n",
    "import plotly.express as px\n",
    "from itertools import product, combinations\n",
    "from scipy.special import comb\n",
    "from scipy.spatial.distance import squareform"
   ]
  },
  {
   "cell_type": "code",
   "execution_count": null,
   "metadata": {},
   "outputs": [],
   "source": [
    "af1 = malariagen_data.Af1(pre=True,\n",
    "                          gcs_cache='/home/namulil/lstm_projects/funestus_llineup/gcs_cache',\n",
    "                          results_cache='home/namulil/lstm_projects/funestus_llineup/results_cache'\n",
    "                          )"
   ]
  },
  {
   "cell_type": "code",
   "execution_count": null,
   "metadata": {},
   "outputs": [],
   "source": [
    "# run this code to read in the additional sample metadata\n",
    "\n",
    "additional_metadata = pd.read_csv('llineup_funestus_extra_metadata.csv')\n",
    "additional_metadata['partner_sample_id'] = additional_metadata['partner_sample_id'].astype(str)"
   ]
  },
  {
   "cell_type": "code",
   "execution_count": null,
   "metadata": {},
   "outputs": [],
   "source": [
    "# run this code to add the additional metadata to the sample metadata available in the package\n",
    "af1.add_extra_metadata(additional_metadata, on='partner_sample_id')"
   ]
  },
  {
   "cell_type": "code",
   "execution_count": null,
   "metadata": {},
   "outputs": [],
   "source": [
    "# run this code to retrieve a dataframe containing the combined sample metadata\n",
    "llineup_sample_set = '1288-VO-UG-DONNELLY-VMF00219'\n",
    "df_samples = af1.sample_metadata(llineup_sample_set)"
   ]
  },
  {
   "cell_type": "code",
   "execution_count": null,
   "metadata": {},
   "outputs": [],
   "source": [
    "df_samples"
   ]
  },
  {
   "cell_type": "markdown",
   "metadata": {},
   "source": [
    "DIPLOTYPE CLUSTERING"
   ]
  },
  {
   "cell_type": "code",
   "execution_count": null,
   "metadata": {},
   "outputs": [],
   "source": [
    "af1.plot_diplotype_clustering_advanced(region=\"2RL:8,680,000-8,695,000\",\n",
    "                                       sample_sets= '1288-VO-UG-DONNELLY-VMF00219',\n",
    "                                       sample_query= None,\n",
    "                                       site_mask='funestus',\n",
    "                                       cnv_region= \"2RL:8,680,000-8,695,000\",\n",
    "                                       title = 'CYP6P9a region',\n",
    "                                        )\n",
    "\n",
    "                              "
   ]
  },
  {
   "cell_type": "code",
   "execution_count": null,
   "metadata": {},
   "outputs": [],
   "source": [
    "af1.plot_diplotype_clustering_advanced(region=\"2RL:8,680,000-8,695,000\",\n",
    "                                       sample_sets= '1288-VO-UG-DONNELLY-VMF00219',\n",
    "                                       sample_query= None,\n",
    "                                       color='cohort_admin1_round',\n",
    "                                       site_mask='funestus',\n",
    "                                       title = 'CYP6P9a region',\n",
    "                                        )"
   ]
  },
  {
   "cell_type": "code",
   "execution_count": null,
   "metadata": {},
   "outputs": [],
   "source": [
    "af1.plot_diplotype_clustering_advanced(region=\"3RL:67,925,771-67,931,656\",\n",
    "                                       sample_sets= '1288-VO-UG-DONNELLY-VMF00219',\n",
    "                                       heterozygosity_colorscale = 'Blues',\n",
    "                                       snp_transcript= 'LOC125769016_t1',\n",
    "                                       sample_query= None,\n",
    "                                       site_mask='funestus',\n",
    "                                       title = 'Newregion',\n",
    "                                       heterozygosity_height= 30,\n",
    "                                       cnv_region = \"3RL:67,925,771-67,931,656\"\n",
    "                                      \n",
    "\n",
    ")"
   ]
  },
  {
   "cell_type": "code",
   "execution_count": null,
   "metadata": {},
   "outputs": [],
   "source": [
    "af1.plot_diplotype_clustering_advanced(region=\"X:8,440,000-8,451,000\",\n",
    "                                       sample_sets= '1288-VO-UG-DONNELLY-VMF00219',\n",
    "                                       heterozygosity_colorscale = 'Blues',\n",
    "                                       snp_transcript= 'LOC125764232_t1',\n",
    "                                       sample_query= None,\n",
    "                                       site_mask='funestus',\n",
    "                                       title = 'CYP9K1 region',\n",
    "                                       heterozygosity_height= 30,\n",
    "                                       cnv_region = \"X:8,440,000-8,451,000\"\n",
    "                                      \n",
    "\n",
    ")"
   ]
  },
  {
   "cell_type": "code",
   "execution_count": null,
   "metadata": {},
   "outputs": [],
   "source": [
    "# diplotype with just snps\n",
    "af1.plot_diplotype_clustering_advanced(region=\"2RL:8,680,000-8,695,000\",\n",
    "                                       sample_sets= '1288-VO-UG-DONNELLY-VMF00219',\n",
    "                                       heterozygosity_colorscale = 'Blues',\n",
    "                                       snp_transcript= 'LOC125764713_t1',\n",
    "                                       snp_colorscale = 'Blues',\n",
    "                                       sample_query= None,\n",
    "                                       site_mask='funestus',\n",
    "                                       title = 'CYP6P9a region',\n",
    "                                       heterozygosity_height= 30,\n",
    "\n",
    ")"
   ]
  },
  {
   "cell_type": "code",
   "execution_count": null,
   "metadata": {},
   "outputs": [],
   "source": [
    "# diplotype with cnv regions\n",
    "af1.plot_diplotype_clustering_advanced(region=\"2RL:8,680,000-8,695,000\",\n",
    "                                       sample_sets= '1288-VO-UG-DONNELLY-VMF00219',\n",
    "                                       heterozygosity_colorscale = 'Blues',\n",
    "                                       snp_transcript= 'LOC125764713_t1',\n",
    "                                       sample_query= None,\n",
    "                                       site_mask='funestus',\n",
    "                                       title = 'CYP6P9a region',\n",
    "                                       heterozygosity_height= 30,\n",
    "                                       cnv_region =\"2RL:8,680,000-8,695,000\",\n",
    "                                       )"
   ]
  },
  {
   "cell_type": "code",
   "execution_count": null,
   "metadata": {},
   "outputs": [],
   "source": [
    "af1.plot_diplotype_clustering_advanced(region=\"2RL:76,406,705-76,407,655\",\n",
    "                                       sample_sets= '1288-VO-UG-DONNELLY-VMF00219',\n",
    "                                       heterozygosity_colorscale = 'Blues',\n",
    "                                       snp_transcript= 'LOC125763977_t2',\n",
    "                                       sample_query= None,\n",
    "                                       site_mask='funestus',\n",
    "                                       title = 'Gste2 region',\n",
    "                                       heterozygosity_height= 30,\n",
    "                                       cnv_region = \"2RL:76,406,705-76,407,655\",\n",
    "                                       \n",
    "                                       \n",
    "\n",
    ")"
   ]
  },
  {
   "cell_type": "code",
   "execution_count": null,
   "metadata": {},
   "outputs": [],
   "source": [
    "af1.plot_diplotype_clustering_advanced(region=\"X:13,590,465-13,736,044\",\n",
    "                                       sample_sets= '1288-VO-UG-DONNELLY-VMF00219',\n",
    "                                       heterozygosity_colorscale = 'Blues',\n",
    "                                       snp_transcript= 'LOC125760558_t2',\n",
    "                                       snp_colorscale = 'Blues',\n",
    "                                       sample_query= None,\n",
    "                                       site_mask='funestus',\n",
    "                                       title = 'DGK region_gwss_output',\n",
    "                                       heterozygosity_height= 30,\n",
    "                                       cnv_region = \"X:13,590,465-13,736,044\",\n",
    "                                    \n",
    "\n",
    ")"
   ]
  },
  {
   "cell_type": "code",
   "execution_count": null,
   "metadata": {},
   "outputs": [],
   "source": [
    "\n",
    "af1.plot_diplotype_clustering_advanced(region=\"X:13,625,000-13,675,000\",\n",
    "                                       sample_sets= '1288-VO-UG-DONNELLY-VMF00219',\n",
    "                                       heterozygosity_colorscale = 'Blues',\n",
    "                                       snp_transcript= 'LOC125760558_t2',\n",
    "                                       snp_colorscale = 'Blues',\n",
    "                                       sample_query= None,\n",
    "                                       color='cohort_armpp_round',\n",
    "                                       site_mask='funestus',\n",
    "                                       title = 'DGK region',\n",
    "                                       heterozygosity_height= 30,\n",
    "                                       distance_metric= 'euclidean',\n",
    "                                       cnv_region = \"X:13,590,465-13,736,044\"\n",
    "                                       \n",
    ")"
   ]
  },
  {
   "cell_type": "code",
   "execution_count": null,
   "metadata": {},
   "outputs": [],
   "source": [
    "af1.plot_diplotype_clustering_advanced(region=\"X:13,625,000-13,675,000\",\n",
    "                                       sample_sets= '1288-VO-UG-DONNELLY-VMF00219',\n",
    "                                       heterozygosity_colorscale = 'Blues',\n",
    "                                       snp_transcript= 'LOC125760558_t2',\n",
    "                                       snp_colorscale = 'Blues',\n",
    "                                       sample_query= None,\n",
    "                                       site_mask='funestus',\n",
    "                                       title = 'DGK region',\n",
    "                                       heterozygosity_height= 30,\n",
    "                                       cnv_region = \"X:13,590,465-13,736,044\"\n",
    "                                       \n",
    "            )"
   ]
  },
  {
   "cell_type": "code",
   "execution_count": null,
   "metadata": {},
   "outputs": [],
   "source": [
    "af1.plot_diplotype_clustering_advanced(region=\"X:13,625,000-13,736,044\",\n",
    "                                       sample_sets= '1288-VO-UG-DONNELLY-VMF00219',\n",
    "                                       heterozygosity_colorscale = 'Blues',\n",
    "                                       snp_transcript= 'LOC125760558_t2',\n",
    "                                       snp_colorscale = 'Blues',\n",
    "                                       sample_query= None,\n",
    "                                       color='cohort_armpp_round',\n",
    "                                       site_mask='funestus',\n",
    "                                       title = 'DGK_ region_in analysis _plan',\n",
    "                                       heterozygosity_height= 30,\n",
    "                                       cnv_region = \"X:13,590,465-13,736,044\"\n",
    "\n",
    ")"
   ]
  },
  {
   "cell_type": "code",
   "execution_count": null,
   "metadata": {},
   "outputs": [],
   "source": [
    "af1.plot_diplotype_clustering_advanced(region=\"X:13,625,000-13,675,000\",\n",
    "                                       sample_sets= '1288-VO-UG-DONNELLY-VMF00219',\n",
    "                                       heterozygosity_colorscale = 'Blues',\n",
    "                                       snp_transcript= 'LOC125760558_t1',\n",
    "                                       snp_colorscale = 'Blues',\n",
    "                                       sample_query= None,\n",
    "                                       color='cohort_armpp_round',\n",
    "                                       site_mask='funestus',\n",
    "                                       title = 'DGK region',\n",
    "                                       heterozygosity_height= 30,\n",
    "                                       cnv_region = \"X:13,590,465-13,736,044\"\n",
    "\n",
    ")"
   ]
  },
  {
   "cell_type": "code",
   "execution_count": null,
   "metadata": {},
   "outputs": [],
   "source": [
    "af1.plot_diplotype_clustering_advanced(region=\"3RL:13,537,199-13,612,792\",\n",
    "                                       sample_sets= '1288-VO-UG-DONNELLY-VMF00219',\n",
    "                                       heterozygosity_colorscale = 'Blues',\n",
    "                                       snp_transcript= 'LOC125769835_t1',\n",
    "                                       snp_colorscale = 'Blues',\n",
    "                                       sample_query= None,\n",
    "                                       color='cohort_armpp_round',\n",
    "                                       site_mask='funestus',\n",
    "                                       title = 'Gaba region',\n",
    "                                       heterozygosity_height= 30,\n",
    "                                       cnv_region = \"3RL:13,537,199-13,612,792\"\n",
    ")"
   ]
  },
  {
   "cell_type": "code",
   "execution_count": null,
   "metadata": {},
   "outputs": [],
   "source": [
    "af1.plot_diplotype_clustering_advanced(region=\"2RL:14,868,000-14,883,000\",\n",
    "                                       sample_sets= '1288-VO-UG-DONNELLY-VMF00219',\n",
    "                                       heterozygosity_colorscale = 'Blues',\n",
    "                                       snp_transcript= 'LOC125764940_t1',\n",
    "                                       snp_colorscale = 'Blues',\n",
    "                                       sample_query= None,\n",
    "                                       color='cohort_armpp_round',\n",
    "                                       site_mask='funestus',\n",
    "                                       title = 'KEAP region',\n",
    "                                       heterozygosity_height= 30,\n",
    "                                       cnv_region = \"2RL:14,868,000-14,883,000\"\n",
    "                                       cnv_colorscale= 'Blues'\n",
    ")"
   ]
  },
  {
   "cell_type": "code",
   "execution_count": null,
   "metadata": {},
   "outputs": [],
   "source": [
    "af1.plot_diplotype_clustering_advanced(region=\"2RL:19,417,355-19,490,903\",\n",
    "                                       sample_sets= '1288-VO-UG-DONNELLY-VMF00219',\n",
    "                                       heterozygosity_colorscale = 'Blues',\n",
    "                                       snp_transcript= 'LOC125763056_t1',\n",
    "                                       snp_colorscale = 'Blues',\n",
    "                                       sample_query= None,\n",
    "                                       color='cohort_armpp_round',\n",
    "                                       site_mask='funestus',\n",
    "                                       title = 'Ache region',\n",
    "                                       heterozygosity_height= 30,\n",
    "                                       cnv_region = \"2RL:19,417,355-19,490,903\"\n",
    ")"
   ]
  },
  {
   "cell_type": "code",
   "execution_count": null,
   "metadata": {},
   "outputs": [],
   "source": [
    "af1.plot_diplotype_clustering_advanced(region=\"2RL:60,840,891-61,069,275\",\n",
    "                                       sample_sets= '1288-VO-UG-DONNELLY-VMF00219',\n",
    "                                       heterozygosity_colorscale = 'Blues',\n",
    "                                       snp_transcript= 'LOC125761375_t7',\n",
    "                                       snp_colorscale = 'Blues',\n",
    "                                       sample_query= None,\n",
    "                                       color='cohort_armpp_round',\n",
    "                                       site_mask='funestus',\n",
    "                                       title = 'Tryosine region',\n",
    "                                       heterozygosity_height= 30,\n",
    "                                       cnv_region = \"2RL:60,840,891-61,069,275\"\n",
    ")"
   ]
  },
  {
   "cell_type": "markdown",
   "metadata": {},
   "source": [
    "2RL CHROMOSOME 8MB REGION"
   ]
  },
  {
   "cell_type": "code",
   "execution_count": null,
   "metadata": {},
   "outputs": [],
   "source": [
    "af1.plot_diplotype_clustering_advanced(region=\"2RL:8,676,358-8,681,935\",\n",
    "                                       sample_sets= '1288-VO-UG-DONNELLY-VMF00219',\n",
    "                                       heterozygosity_colorscale = 'Blues',\n",
    "                                       snp_transcript= 'LOC125764700_t2',\n",
    "                                       snp_colorscale = 'Blues',\n",
    "                                       sample_query= None,\n",
    "                                       site_mask='funestus',\n",
    "                                       title = 'Esterase output',\n",
    "                                       heterozygosity_height= 30,\n",
    "                                       cnv_region = \"2RL:8,676,358-8,681,935\"\n",
    ")"
   ]
  },
  {
   "cell_type": "code",
   "execution_count": null,
   "metadata": {},
   "outputs": [],
   "source": [
    "af1.plot_diplotype_clustering_advanced(region=\"2RL:8,685,464-8,690,407\",\n",
    "                                       sample_sets= '1288-VO-UG-DONNELLY-VMF00219',\n",
    "                                       heterozygosity_colorscale = 'Blues',\n",
    "                                       snp_transcript= 'LOC125764713_t1',\n",
    "                                       snp_colorscale = 'Blues',\n",
    "                                       sample_query= None,\n",
    "                                       site_mask='funestus',\n",
    "                                       title = 'CYP6P9A',\n",
    "                                       heterozygosity_height= 30,\n",
    "                                       cnv_region = \"2RL:8,685,464-8,690,407\"\n",
    ")\n"
   ]
  },
  {
   "cell_type": "code",
   "execution_count": null,
   "metadata": {},
   "outputs": [],
   "source": [
    "af1.plot_diplotype_clustering_advanced(region=\"2RL:8,500,000-9,000,000\",\n",
    "                                       sample_sets= '1288-VO-UG-DONNELLY-VMF00219',\n",
    "                                       heterozygosity_colorscale = 'Blues',\n",
    "                                       snp_transcript= 'LOC125764713_t2',\n",
    "                                       snp_colorscale = 'Blues',\n",
    "                                       sample_query= None,\n",
    "                                       site_mask='funestus',\n",
    "                                       title = 'Entire CYP6P9A swept region',\n",
    "                                       heterozygosity_height= 30,\n",
    "                                       cnv_region = \"2RL:8,500,000-9,000,000\"\n",
    "\n",
    ")"
   ]
  }
 ],
 "metadata": {
  "kernelspec": {
   "display_name": "Python 3 (ipykernel)",
   "language": "python",
   "name": "python3"
  },
  "language_info": {
   "codemirror_mode": {
    "name": "ipython",
    "version": 3
   },
   "file_extension": ".py",
   "mimetype": "text/x-python",
   "name": "python",
   "nbconvert_exporter": "python",
   "pygments_lexer": "ipython3",
   "version": "3.12.3"
  }
 },
 "nbformat": 4,
 "nbformat_minor": 2
}
