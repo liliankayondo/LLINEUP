{
 "cells": [
  {
   "cell_type": "code",
   "execution_count": null,
   "metadata": {},
   "outputs": [],
   "source": [
    "%pip install malariagen_data==9.0.1 numpy -qq"
   ]
  },
  {
   "cell_type": "code",
   "execution_count": null,
   "metadata": {},
   "outputs": [],
   "source": [
    "import malariagen_data\n",
    "import pandas as pd"
   ]
  },
  {
   "cell_type": "code",
   "execution_count": null,
   "metadata": {},
   "outputs": [],
   "source": [
    "af1 = malariagen_data.Af1(pre=True,\n",
    "                          gcs_cache='/home/namulil/lstm_projects/funestus_llineup/gcs_cache',\n",
    "                          results_cache='home/namulil/lstm_projects/funestus_llineup/results_cache'\n",
    "                          )"
   ]
  },
  {
   "cell_type": "code",
   "execution_count": null,
   "metadata": {},
   "outputs": [],
   "source": [
    "# run this code to read in the additional sample metadata\n",
    "\n",
    "additional_metadata = pd.read_csv('llineup_funestus_extra_metadata.csv')\n",
    "additional_metadata['partner_sample_id'] = additional_metadata['partner_sample_id'].astype(str)"
   ]
  },
  {
   "cell_type": "code",
   "execution_count": null,
   "metadata": {},
   "outputs": [],
   "source": [
    "llineup_sample_set = '1288-VO-UG-DONNELLY-VMF00219'\n",
    "df_samples = af1.sample_metadata(llineup_sample_set)"
   ]
  },
  {
   "cell_type": "code",
   "execution_count": null,
   "metadata": {
    "scrolled": false
   },
   "outputs": [],
   "source": [
    "df_samples.columns"
   ]
  },
  {
   "cell_type": "code",
   "execution_count": null,
   "metadata": {},
   "outputs": [],
   "source": [
    "# run this code to add the additional metadata to the sample metadata available in the package\n",
    "af1.add_extra_metadata(additional_metadata, on='partner_sample_id')"
   ]
  },
  {
   "cell_type": "code",
   "execution_count": null,
   "metadata": {},
   "outputs": [],
   "source": [
    "df_samples.columns"
   ]
  },
  {
   "cell_type": "code",
   "execution_count": null,
   "metadata": {},
   "outputs": [],
   "source": [
    "# run this code to retrieve a dataframe containing the combined sample metadata\n",
    "llineup_sample_set = '1288-VO-UG-DONNELLY-VMF00219'\n",
    "df_samples = af1.sample_metadata(llineup_sample_set)"
   ]
  },
  {
   "cell_type": "code",
   "execution_count": null,
   "metadata": {},
   "outputs": [],
   "source": [
    "df_samples.columns"
   ]
  },
  {
   "cell_type": "code",
   "execution_count": null,
   "metadata": {},
   "outputs": [],
   "source": [
    "from collections import Counter\n",
    "\n",
    "\n",
    "import matplotlib.pyplot as plt\n",
    "import numpy as np\n",
    "import plotly.express as px\n",
    "import seaborn as sns\n",
    "import bokeh.io as bkio\n",
    "bkio.output_notebook()\n",
    "import os\n",
    "import pandas as pd\n",
    "import ipyleaflet"
   ]
  },
  {
   "cell_type": "code",
   "execution_count": null,
   "metadata": {},
   "outputs": [],
   "source": [
    "print(df_samples.columns)"
   ]
  },
  {
   "cell_type": "code",
   "execution_count": null,
   "metadata": {},
   "outputs": [],
   "source": [
    "pip install plotly==5.18.0"
   ]
  },
  {
   "cell_type": "code",
   "execution_count": null,
   "metadata": {},
   "outputs": [],
   "source": [
    "df_samples['cohort_subregions_round']"
   ]
  },
  {
   "cell_type": "code",
   "execution_count": null,
   "metadata": {},
   "outputs": [],
   "source": [
    "# accessing snp call data\n",
    "ds_snps_af1 = af1.snp_calls(region=\"2RL:60,000,000-80,000,000\", sample_sets=\"1288-VO-UG-DONNELLY-VMF00219\")\n",
    "ds_snps_af1"
   ]
  },
  {
   "cell_type": "code",
   "execution_count": null,
   "metadata": {},
   "outputs": [],
   "source": [
    "import allel"
   ]
  },
  {
   "cell_type": "code",
   "execution_count": null,
   "metadata": {},
   "outputs": [],
   "source": [
    "# doing diversity stats using the same area as the PCA plots\n",
    "df_stats_ugf_rnd_dict = af1.diversity_stats(\n",
    "    cohorts= cohorts,\n",
    "    cohort_size=10,\n",
    "    region=\"2RL:60,000,000-80,000,000\",\n",
    "    site_mask=\"funestus\",\n",
    "    site_class=\"CDS_DEG_4\",\n",
    ")\n",
    "df_stats_ugf_rnd_dict"
   ]
  },
  {
   "cell_type": "code",
   "execution_count": null,
   "metadata": {},
   "outputs": [],
   "source": [
    "# USING THE 2RL region from Sanjay\n",
    "region = \"2RL:60,000,000-80,000,000\"\n",
    "n_snps = 100_000\n",
    "sample_sets = \"1288-VO-UG-DONNELLY-VMF00219\"\n",
    "sample_query = 'sample_id not in [sample_id1, sample_id2]'"
   ]
  },
  {
   "cell_type": "code",
   "execution_count": null,
   "metadata": {},
   "outputs": [],
   "source": [
    "sample_sets = \"1288-VO-UG-DONNELLY-VMF00219\""
   ]
  },
  {
   "cell_type": "code",
   "execution_count": null,
   "metadata": {},
   "outputs": [],
   "source": [
    "pca_df, evr = af1.pca(\n",
    "    region=region,\n",
    "    n_snps=n_snps,\n",
    "    sample_sets=sample_sets\n",
    ")"
   ]
  },
  {
   "cell_type": "code",
   "execution_count": null,
   "metadata": {},
   "outputs": [],
   "source": [
    "# ploting variance to consider for analysis\n",
    "af1.plot_pca_variance(evr)"
   ]
  },
  {
   "cell_type": "code",
   "execution_count": null,
   "metadata": {},
   "outputs": [],
   "source": [
    "# drawing the scatter plot\n",
    "fig = px.scatter(pca_df, x=\"PC1\", y=\"PC2\")\n",
    "fig.show()"
   ]
  },
  {
   "cell_type": "code",
   "execution_count": null,
   "metadata": {},
   "outputs": [],
   "source": [
    "af1.plot_pca_coords(\n",
    "    pca_df,\n",
    "    color=\"cohort_admin2_round\"\n",
    "\n",
    ")"
   ]
  },
  {
   "cell_type": "code",
   "execution_count": null,
   "metadata": {},
   "outputs": [],
   "source": [
    "af1.plot_pca_coords(\n",
    "    pca_df,\n",
    "    color=\"cohort_armpp_round\"\n",
    ")\n"
   ]
  },
  {
   "cell_type": "markdown",
   "metadata": {},
   "source": []
  },
  {
   "cell_type": "code",
   "execution_count": null,
   "metadata": {},
   "outputs": [],
   "source": [
    "af1.plot_pca_coords(\n",
    "    pca_df,\n",
    "    color=\"cohort_subregions_round\"\n",
    ")\n"
   ]
  },
  {
   "cell_type": "code",
   "execution_count": null,
   "metadata": {},
   "outputs": [],
   "source": [
    "\n",
    "af1.plot_pca_coords(\n",
    "    pca_df,\n",
    "    color=\"cohort_arm_round\"\n",
    ")"
   ]
  },
  {
   "cell_type": "code",
   "execution_count": null,
   "metadata": {},
   "outputs": [],
   "source": [
    "\n",
    "af1.plot_pca_coords(\n",
    "    pca_df,\n",
    "    color=\"cohort_admin1_round\"\n",
    ")"
   ]
  },
  {
   "cell_type": "markdown",
   "metadata": {},
   "source": [
    "removing utliers"
   ]
  },
  {
   "cell_type": "code",
   "execution_count": null,
   "metadata": {},
   "outputs": [],
   "source": [
    "region = \"2RL:60,000,000-80,000,000\"\n",
    "n_snps = 100_000\n",
    "sample_sets = \"1288-VO-UG-DONNELLY-VMF00219\"\n",
    "sample_query = \"sample_id not in ['VBS65137-6645STDY13043869','VBS64809-6645STDY13043513','VBS65224-6645STDY13043958','VBS66747-6645STDY13045660', 'VBS65604-6645STDY13044458', 'VBS65603-6645STDY13044457','VBS66411-6645STDY13044218','VBS66999-6645STDY13057643','VBS65605-6645STDY13044459','VBS66747-6645STDY13045660','VBS66979-6645STDY13045894','VBS65539-6645STDY13044392','VBS65220-6645STDY13043954','VBS65525-6645STDY13044376','VBS65518-6645STDY13044369','VBS65519-6645STDY13044370','VBS65526-6645STDY13044377','VBS6-6645STDY130','VBS66973-6645STDY13045888','VBS65532-6645STDY13044383','VBS66561-6645STDY13045471','VBS66968-6645STDY13045883','VBS65554-6645STDY13044407','VBS65555-6645STDY13044408']\""
   ]
  },
  {
   "cell_type": "code",
   "execution_count": null,
   "metadata": {},
   "outputs": [],
   "source": [
    "pca_df, evr = af1.pca(\n",
    "    region=region,\n",
    "    n_snps=n_snps,\n",
    "    sample_sets=sample_sets,\n",
    "    sample_query=\"sample_id not in ['VBS65137-6645STDY13043869','VBS64809-6645STDY13043513','VBS65224-6645STDY13043958','VBS66747-6645STDY13045660', 'VBS65604-6645STDY13044458', 'VBS65603-6645STDY13044457','VBS66411-6645STDY13044218','VBS66999-6645STDY13057643','VBS65605-6645STDY13044459','VBS66747-6645STDY13045660','VBS66979-6645STDY13045894','VBS65539-6645STDY13044392','VBS65220-6645STDY13043954','VBS65525-6645STDY13044376','VBS65518-6645STDY13044369','VBS65519-6645STDY13044370','VBS65526-6645STDY13044377']\"\n",
    ")"
   ]
  },
  {
   "cell_type": "markdown",
   "metadata": {},
   "source": []
  },
  {
   "cell_type": "code",
   "execution_count": null,
   "metadata": {},
   "outputs": [],
   "source": [
    "af1.plot_pca_coords(\n",
    "    pca_df,\n",
    "    color=\"Wave\"\n",
    ")"
   ]
  },
  {
   "cell_type": "code",
   "execution_count": null,
   "metadata": {},
   "outputs": [],
   "source": [
    "# creating a 3D Plot\n",
    "af1.plot_pca_coords_3d(\n",
    "    pca_df,\n",
    "    color=\"cohort_admin2_round\",\n",
    ")"
   ]
  },
  {
   "cell_type": "markdown",
   "metadata": {},
   "source": [
    "removing more outliers"
   ]
  },
  {
   "cell_type": "code",
   "execution_count": null,
   "metadata": {},
   "outputs": [],
   "source": [
    "pca_df, evr = af1.pca(\n",
    "    region=region,\n",
    "    n_snps=n_snps,\n",
    "    sample_sets=sample_sets,\n",
    "    sample_query=\"sample_id not in ['VBS65137-6645STDY13043869','VBS64809-6645STDY13043513','VBS65224-6645STDY13043958','VBS66747-6645STDY13045660', 'VBS65604-6645STDY13044458', 'VBS65603-6645STDY13044457','VBS66411-6645STDY13044218','VBS66999-6645STDY13057643','VBS65605-6645STDY13044459','VBS66747-6645STDY13045660','VBS66979-6645STDY13045894','VBS65539-6645STDY13044392','VBS65220-6645STDY13043954','VBS65525-6645STDY13044376','VBS65518-6645STDY13044369','VBS65519-6645STDY13044370','VBS65526-6645STDY13044377', 'VBS66973-6645STDY13045888', 'VBS65532-6645STDY13044383', 'VBS65555-6645STDY13044408', 'VBS65554-6645STDY13044407', 'VBS66968-6645STDY13045883', 'VBS66561-6645STDY13045471']\"\n",
    ")"
   ]
  },
  {
   "cell_type": "code",
   "execution_count": null,
   "metadata": {},
   "outputs": [],
   "source": [
    "af1.plot_pca_coords(\n",
    "    pca_df,\n",
    "    color=\"cohort_admin1_round\"\n",
    ")"
   ]
  },
  {
   "cell_type": "code",
   "execution_count": null,
   "metadata": {},
   "outputs": [],
   "source": [
    "# ploting variance to consider for analysis\n",
    "af1.plot_pca_variance(evr)"
   ]
  },
  {
   "cell_type": "code",
   "execution_count": null,
   "metadata": {},
   "outputs": [],
   "source": [
    "# creating a 3D Plot\n",
    "af1.plot_pca_coords_3d(\n",
    "    pca_df,\n",
    "    color=\"cohort_admin2_round\",\n",
    ")"
   ]
  },
  {
   "cell_type": "code",
   "execution_count": null,
   "metadata": {},
   "outputs": [],
   "source": [
    "af1.plot_pca_coords(\n",
    "    pca_df,\n",
    "    color=\"admin1_iso\"\n",
    ")"
   ]
  },
  {
   "cell_type": "code",
   "execution_count": null,
   "metadata": {},
   "outputs": [],
   "source": [
    "pca_df, evr = af1.pca(\n",
    "    region=region,\n",
    "    n_snps=n_snps,\n",
    "    sample_sets=sample_sets,\n",
    "    sample_query=\"sample_id not in ['VBS65137-6645STDY13043869','VBS64809-6645STDY13043513','VBS65224-6645STDY13043958','VBS66747-6645STDY13045660', 'VBS65604-6645STDY13044458', 'VBS65603-6645STDY13044457','VBS66411-6645STDY13044218','VBS66999-6645STDY13057643','VBS65605-6645STDY13044459','VBS66747-6645STDY13045660','VBS66979-6645STDY13045894','VBS65539-6645STDY13044392','VBS65220-6645STDY13043954','VBS65525-6645STDY13044376','VBS65518-6645STDY13044369','VBS65519-6645STDY13044370','VBS65526-6645STDY13044377', 'VBS66973-6645STDY13045888', 'VBS65532-6645STDY13044383', 'VBS65555-6645STDY13044408', 'VBS65554-6645STDY13044407', 'VBS66968-6645STDY13045883', 'VBS66561-6645STDY13045471', 'VBS6490-6645STDY13043393','VBS64689-6645STDY13043392', 'VBS66991-6645STDY13057635', 'VBS66287-6645STDY13045195', 'VBS66986-6645STDY13057630','VBS66100-6645STDY13045007', 'VBS65528-6645STDY13044379','VBS65608-6645STDY13044463']\"\n",
    ")"
   ]
  },
  {
   "cell_type": "code",
   "execution_count": null,
   "metadata": {},
   "outputs": [],
   "source": [
    "af1.plot_pca_coords(\n",
    "    pca_df,\n",
    "    color=\"cohort_admin1_round\"\n",
    ")"
   ]
  },
  {
   "cell_type": "code",
   "execution_count": null,
   "metadata": {},
   "outputs": [],
   "source": [
    "# creating a 3D Plot\n",
    "af1.plot_pca_coords_3d(\n",
    "    pca_df,\n",
    "    color=\"cohort_admin1_round\",\n",
    ")"
   ]
  },
  {
   "cell_type": "code",
   "execution_count": null,
   "metadata": {},
   "outputs": [],
   "source": [
    "# creating a 3D Plot\n",
    "af1.plot_pca_coords_3d(\n",
    "    pca_df,\n",
    "    color=\"admin1_iso\",\n",
    ")"
   ]
  },
  {
   "cell_type": "code",
   "execution_count": null,
   "metadata": {},
   "outputs": [],
   "source": [
    "pca_df, evr = af1.pca(\n",
    "    region=region,\n",
    "    n_snps=n_snps,\n",
    "    sample_sets=sample_sets,\n",
    "    sample_query=\"sample_id not in ['VBS65137-6645STDY13043869','VBS64809-6645STDY13043513','VBS65224-6645STDY13043958','VBS66747-6645STDY13045660', 'VBS65604-6645STDY13044458', 'VBS65603-6645STDY13044457','VBS66411-6645STDY13044218','VBS66999-6645STDY13057643','VBS65605-6645STDY13044459','VBS66747-6645STDY13045660','VBS66979-6645STDY13045894','VBS65539-6645STDY13044392','VBS65220-6645STDY13043954','VBS65525-6645STDY13044376','VBS65518-6645STDY13044369','VBS65519-6645STDY13044370','VBS65526-6645STDY13044377', 'VBS66973-6645STDY13045888', 'VBS65532-6645STDY13044383', 'VBS65555-6645STDY13044408', 'VBS65554-6645STDY13044407', 'VBS66968-6645STDY13045883', 'VBS66561-6645STDY13045471', 'VBS6490-6645STDY13043393','VBS64689-6645STDY13043392', 'VBS66991-6645STDY13057635', 'VBS66287-6645STDY13045195', 'VBS66986-6645STDY13057630','VBS66100-6645STDY13045007', 'VBS65528-6645STDY13044379','VBS65608-6645STDY13044463','VBS64906-6645STDY13043610','VBS66780-6645STDY13045693','VBS64905-6645STDY13043609','VBS64904-6645STDY130443608', 'VBS64919-6645STDY13043623', 'VBS66213-6645STDY13045121']\"\n",
    ")"
   ]
  },
  {
   "cell_type": "code",
   "execution_count": null,
   "metadata": {},
   "outputs": [],
   "source": [
    "af1.plot_pca_coords(\n",
    "    pca_df,\n",
    "    color=\"cohort_admin1_round\"\n",
    ")"
   ]
  },
  {
   "cell_type": "code",
   "execution_count": null,
   "metadata": {},
   "outputs": [],
   "source": [
    "af1.plot_pca_coords_3d(\n",
    "    pca_df,\n",
    "    color=\"admin1_iso\"\n",
    ")"
   ]
  },
  {
   "cell_type": "markdown",
   "metadata": {},
   "source": [
    "more outliers"
   ]
  },
  {
   "cell_type": "code",
   "execution_count": null,
   "metadata": {},
   "outputs": [],
   "source": [
    "pca_df, evr = af1.pca(\n",
    "    region=region,\n",
    "    n_snps=n_snps,\n",
    "    sample_sets=sample_sets,\n",
    "    sample_query=\"sample_id not in ['VBS65137-6645STDY13043869','VBS64809-6645STDY13043513','VBS65224-6645STDY13043958','VBS66747-6645STDY13045660', 'VBS65604-6645STDY13044458', 'VBS65603-6645STDY13044457','VBS66411-6645STDY13044218','VBS66999-6645STDY13057643','VBS65605-6645STDY13044459','VBS66747-6645STDY13045660','VBS66979-6645STDY13045894','VBS65539-6645STDY13044392','VBS65220-6645STDY13043954','VBS65525-6645STDY13044376','VBS65518-6645STDY13044369','VBS65519-6645STDY13044370','VBS65526-6645STDY13044377', 'VBS66973-6645STDY13045888', 'VBS65532-6645STDY13044383', 'VBS65555-6645STDY13044408', 'VBS65554-6645STDY13044407', 'VBS66968-6645STDY13045883', 'VBS66561-6645STDY13045471', 'VBS6490-6645STDY13043393','VBS64689-6645STDY13043392', 'VBS66991-6645STDY13057635', 'VBS66287-6645STDY13045195', 'VBS66986-6645STDY13057630','VBS66100-6645STDY13045007', 'VBS65528-6645STDY13044379','VBS65608-6645STDY13044463','VBS64906-6645STDY13043610','VBS66780-6645STDY13045693','VBS64905-6645STDY13043609','VBS64904-6645STDY130443608', 'VBS64919-6645STDY13043623', 'VBS66213-6645STDY13045121', 'VBS66586-6645STDY13045497', 'VBS64911-6645STDY13043615', 'VBS64910-6645STDY13043614']\"\n",
    ")"
   ]
  },
  {
   "cell_type": "code",
   "execution_count": null,
   "metadata": {},
   "outputs": [],
   "source": [
    "af1.plot_pca_coords(\n",
    "    pca_df,\n",
    "    color=\"cohort_admin1_round\"\n",
    ")"
   ]
  },
  {
   "cell_type": "code",
   "execution_count": null,
   "metadata": {},
   "outputs": [],
   "source": [
    "# ploting variance to consider for analysis\n",
    "af1.plot_pca_variance(evr)"
   ]
  },
  {
   "cell_type": "code",
   "execution_count": null,
   "metadata": {},
   "outputs": [],
   "source": [
    "af1.plot_pca_coords_3d(\n",
    "    pca_df,\n",
    "    color=\"cohort_admin1_round\"\n",
    ")"
   ]
  },
  {
   "cell_type": "code",
   "execution_count": null,
   "metadata": {},
   "outputs": [],
   "source": [
    "af1.plot_pca_coords_3d(\n",
    "    pca_df,\n",
    "    color=\"cohort_arm_round\"\n",
    ")"
   ]
  },
  {
   "cell_type": "code",
   "execution_count": null,
   "metadata": {},
   "outputs": [],
   "source": [
    "af1.plot_pca_coords_3d(\n",
    "    pca_df,\n",
    "    color=\"admin1_iso\"\n",
    ")"
   ]
  },
  {
   "cell_type": "code",
   "execution_count": null,
   "metadata": {},
   "outputs": [],
   "source": [
    "\n",
    "af1.plot_pca_coords(\n",
    "    pca_df,\n",
    "    color=\"cohort_subregions_round\"\n",
    ")"
   ]
  },
  {
   "cell_type": "code",
   "execution_count": null,
   "metadata": {},
   "outputs": [],
   "source": [
    "pca_df, evr = af1.pca(\n",
    "    region=region,\n",
    "    n_snps=n_snps,\n",
    "    sample_sets=sample_sets,\n",
    "    sample_query=\"sample_id not in ['VBS65137-6645STDY13043869','VBS64809-6645STDY13043513','VBS65224-6645STDY13043958','VBS66747-6645STDY13045660', 'VBS65604-6645STDY13044458', 'VBS65603-6645STDY13044457','VBS66411-6645STDY13044218','VBS66999-6645STDY13057643','VBS65605-6645STDY13044459','VBS66747-6645STDY13045660','VBS66979-6645STDY13045894','VBS65539-6645STDY13044392','VBS65220-6645STDY13043954','VBS65525-6645STDY13044376','VBS65518-6645STDY13044369','VBS65519-6645STDY13044370','VBS65526-6645STDY13044377', 'VBS66973-6645STDY13045888', 'VBS65532-6645STDY13044383', 'VBS65555-6645STDY13044408', 'VBS65554-6645STDY13044407', 'VBS66968-6645STDY13045883', 'VBS66561-6645STDY13045471', 'VBS6490-6645STDY13043393','VBS64689-6645STDY13043392', 'VBS66991-6645STDY13057635', 'VBS66287-6645STDY13045195', 'VBS66986-6645STDY13057630','VBS66100-6645STDY13045007', 'VBS65528-6645STDY13044379','VBS65608-6645STDY13044463','VBS64906-6645STDY13043610','VBS66780-6645STDY13045693','VBS64905-6645STDY13043609','VBS64904-6645STDY130443608', 'VBS64919-6645STDY13043623', 'VBS66213-6645STDY13045121', 'VBS66586-6645STDY13045497', 'VBS64911-6645STDY13043615', 'VBS64910-6645STDY13043614', 'VBS66470-6645STDY13045377', 'VBS66474-6645STDY13045381', 'VBS65537-6645STDY13044390', 'VBS65543-6645STDY13044396']\"\n",
    ")"
   ]
  },
  {
   "cell_type": "code",
   "execution_count": null,
   "metadata": {},
   "outputs": [],
   "source": [
    "af1.plot_pca_coords_3d(\n",
    "    pca_df,\n",
    "    color=\"cohort_admin1_round\"\n",
    ")"
   ]
  },
  {
   "cell_type": "code",
   "execution_count": null,
   "metadata": {},
   "outputs": [],
   "source": [
    "af1.plot_pca_coords(\n",
    "    pca_df,\n",
    "    color=\"cohort_admin1_round\"\n",
    ")"
   ]
  },
  {
   "cell_type": "code",
   "execution_count": null,
   "metadata": {},
   "outputs": [],
   "source": [
    "# ploting variance to consider for analysis\n",
    "af1.plot_pca_variance(evr)"
   ]
  },
  {
   "cell_type": "code",
   "execution_count": null,
   "metadata": {},
   "outputs": [],
   "source": [
    "af1.plot_pca_coords(\n",
    "    pca_df,\n",
    "    color=\"cohort_subregions_round\"\n",
    ")"
   ]
  },
  {
   "cell_type": "code",
   "execution_count": null,
   "metadata": {},
   "outputs": [],
   "source": [
    "af1.plot_pca_coords_3d(\n",
    "    pca_df,\n",
    "    color=\"admin1_iso\"\n",
    ")"
   ]
  },
  {
   "cell_type": "code",
   "execution_count": null,
   "metadata": {},
   "outputs": [],
   "source": [
    "af1.plot_pca_coords_3d(\n",
    "    pca_df,\n",
    "    color=\"Wave\"\n",
    ")"
   ]
  },
  {
   "cell_type": "code",
   "execution_count": null,
   "metadata": {},
   "outputs": [],
   "source": [
    "\n",
    "af1.plot_pca_coords_3d(\n",
    "    pca_df,\n",
    "    color=\"cohort_arm_round\"\n",
    ")"
   ]
  }
 ],
 "metadata": {
  "kernelspec": {
   "display_name": "Python 3 (ipykernel)",
   "language": "python",
   "name": "python3"
  },
  "language_info": {
   "codemirror_mode": {
    "name": "ipython",
    "version": 3
   },
   "file_extension": ".py",
   "mimetype": "text/x-python",
   "name": "python",
   "nbconvert_exporter": "python",
   "pygments_lexer": "ipython3",
   "version": "3.12.3"
  }
 },
 "nbformat": 4,
 "nbformat_minor": 2
}
