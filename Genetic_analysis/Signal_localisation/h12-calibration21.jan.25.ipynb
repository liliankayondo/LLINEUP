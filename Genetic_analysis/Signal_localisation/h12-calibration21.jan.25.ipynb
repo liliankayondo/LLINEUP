{
 "cells": [
  {
   "cell_type": "markdown",
   "id": "558a69f6-cc5c-4f18-be1f-bb216f865599",
   "metadata": {},
   "source": [
    "# H12 window size calibration"
   ]
  },
  {
   "cell_type": "code",
   "execution_count": 1,
   "id": "b58ec70a",
   "metadata": {
    "tags": [
     "parameters"
    ]
   },
   "outputs": [],
   "source": [
    "# Notebook parameters. Values here are for development only and \n",
    "# will be overridden when running via snakemake and papermill.\n",
    "cohort_id = 'llineup'\n",
    "#cohorts_analysis=\"20230223\"\n",
    "#contigs = ['2L']\n",
    "sample_sets = [\"1288-VO-UG-DONNELLY-VMF00219\"]\n",
    "sample_query = \"sex_call == 'F'\"\n",
    "#min_cohort_size = 20\n",
    "#max_cohort_size = 50\n",
    "h12_calibration_contig = 'X'\n",
    "use_gcs_cache = False\n",
    "dask_scheduler = \"threads\"\n",
    "window_sizes = (100, 200, 500, 1000, 2000, 5000, 10000, 20000)\n"
   ]
  },
  {
   "cell_type": "markdown",
   "id": "54470e35",
   "metadata": {},
   "source": []
  },
  {
   "cell_type": "code",
   "execution_count": 2,
   "id": "92657fcb",
   "metadata": {},
   "outputs": [
    {
     "name": "stdout",
     "output_type": "stream",
     "text": [
      "Requirement already satisfied: pyprojroot in /home/namulil/miniconda3/lib/python3.11/site-packages (0.3.0)\n",
      "Requirement already satisfied: typing-extensions in /home/namulil/miniconda3/lib/python3.11/site-packages (from pyprojroot) (4.11.0)\n",
      "Note: you may need to restart the kernel to use updated packages.\n"
     ]
    }
   ],
   "source": [
    "pip install pyprojroot"
   ]
  },
  {
   "cell_type": "markdown",
   "id": "87a7858c-e05a-47dc-ac14-7dff6afc0789",
   "metadata": {},
   "source": [
    "## Setup"
   ]
  },
  {
   "cell_type": "code",
   "execution_count": 3,
   "id": "a43f9a9b-f202-426f-830e-e430a8f762d7",
   "metadata": {
    "tags": []
   },
   "outputs": [],
   "source": [
    "import yaml\n",
    "import pandas as pd\n",
    "import malariagen_data\n",
    "from pyprojroot import here\n",
    "import numpy as np\n",
    "import os\n",
    "import dask\n",
    "dask.config.set(scheduler=dask_scheduler);"
   ]
  },
  {
   "cell_type": "code",
   "execution_count": 4,
   "id": "444cbbad-32b5-4e30-8e91-179b2fadaa6b",
   "metadata": {
    "tags": []
   },
   "outputs": [
    {
     "data": {
      "application/javascript": "(function(root) {\n  function now() {\n    return new Date();\n  }\n\n  const force = true;\n\n  if (typeof root._bokeh_onload_callbacks === \"undefined\" || force === true) {\n    root._bokeh_onload_callbacks = [];\n    root._bokeh_is_loading = undefined;\n  }\n\nconst JS_MIME_TYPE = 'application/javascript';\n  const HTML_MIME_TYPE = 'text/html';\n  const EXEC_MIME_TYPE = 'application/vnd.bokehjs_exec.v0+json';\n  const CLASS_NAME = 'output_bokeh rendered_html';\n\n  /**\n   * Render data to the DOM node\n   */\n  function render(props, node) {\n    const script = document.createElement(\"script\");\n    node.appendChild(script);\n  }\n\n  /**\n   * Handle when an output is cleared or removed\n   */\n  function handleClearOutput(event, handle) {\n    function drop(id) {\n      const view = Bokeh.index.get_by_id(id)\n      if (view != null) {\n        view.model.document.clear()\n        Bokeh.index.delete(view)\n      }\n    }\n\n    const cell = handle.cell;\n\n    const id = cell.output_area._bokeh_element_id;\n    const server_id = cell.output_area._bokeh_server_id;\n\n    // Clean up Bokeh references\n    if (id != null) {\n      drop(id)\n    }\n\n    if (server_id !== undefined) {\n      // Clean up Bokeh references\n      const cmd_clean = \"from bokeh.io.state import curstate; print(curstate().uuid_to_server['\" + server_id + \"'].get_sessions()[0].document.roots[0]._id)\";\n      cell.notebook.kernel.execute(cmd_clean, {\n        iopub: {\n          output: function(msg) {\n            const id = msg.content.text.trim()\n            drop(id)\n          }\n        }\n      });\n      // Destroy server and session\n      const cmd_destroy = \"import bokeh.io.notebook as ion; ion.destroy_server('\" + server_id + \"')\";\n      cell.notebook.kernel.execute(cmd_destroy);\n    }\n  }\n\n  /**\n   * Handle when a new output is added\n   */\n  function handleAddOutput(event, handle) {\n    const output_area = handle.output_area;\n    const output = handle.output;\n\n    // limit handleAddOutput to display_data with EXEC_MIME_TYPE content only\n    if ((output.output_type != \"display_data\") || (!Object.prototype.hasOwnProperty.call(output.data, EXEC_MIME_TYPE))) {\n      return\n    }\n\n    const toinsert = output_area.element.find(\".\" + CLASS_NAME.split(' ')[0]);\n\n    if (output.metadata[EXEC_MIME_TYPE][\"id\"] !== undefined) {\n      toinsert[toinsert.length - 1].firstChild.textContent = output.data[JS_MIME_TYPE];\n      // store reference to embed id on output_area\n      output_area._bokeh_element_id = output.metadata[EXEC_MIME_TYPE][\"id\"];\n    }\n    if (output.metadata[EXEC_MIME_TYPE][\"server_id\"] !== undefined) {\n      const bk_div = document.createElement(\"div\");\n      bk_div.innerHTML = output.data[HTML_MIME_TYPE];\n      const script_attrs = bk_div.children[0].attributes;\n      for (let i = 0; i < script_attrs.length; i++) {\n        toinsert[toinsert.length - 1].firstChild.setAttribute(script_attrs[i].name, script_attrs[i].value);\n        toinsert[toinsert.length - 1].firstChild.textContent = bk_div.children[0].textContent\n      }\n      // store reference to server id on output_area\n      output_area._bokeh_server_id = output.metadata[EXEC_MIME_TYPE][\"server_id\"];\n    }\n  }\n\n  function register_renderer(events, OutputArea) {\n\n    function append_mime(data, metadata, element) {\n      // create a DOM node to render to\n      const toinsert = this.create_output_subarea(\n        metadata,\n        CLASS_NAME,\n        EXEC_MIME_TYPE\n      );\n      this.keyboard_manager.register_events(toinsert);\n      // Render to node\n      const props = {data: data, metadata: metadata[EXEC_MIME_TYPE]};\n      render(props, toinsert[toinsert.length - 1]);\n      element.append(toinsert);\n      return toinsert\n    }\n\n    /* Handle when an output is cleared or removed */\n    events.on('clear_output.CodeCell', handleClearOutput);\n    events.on('delete.Cell', handleClearOutput);\n\n    /* Handle when a new output is added */\n    events.on('output_added.OutputArea', handleAddOutput);\n\n    /**\n     * Register the mime type and append_mime function with output_area\n     */\n    OutputArea.prototype.register_mime_type(EXEC_MIME_TYPE, append_mime, {\n      /* Is output safe? */\n      safe: true,\n      /* Index of renderer in `output_area.display_order` */\n      index: 0\n    });\n  }\n\n  // register the mime type if in Jupyter Notebook environment and previously unregistered\n  if (root.Jupyter !== undefined) {\n    const events = require('base/js/events');\n    const OutputArea = require('notebook/js/outputarea').OutputArea;\n\n    if (OutputArea.prototype.mime_types().indexOf(EXEC_MIME_TYPE) == -1) {\n      register_renderer(events, OutputArea);\n    }\n  }\n  if (typeof (root._bokeh_timeout) === \"undefined\" || force === true) {\n    root._bokeh_timeout = Date.now() + 5000;\n    root._bokeh_failed_load = false;\n  }\n\n  const NB_LOAD_WARNING = {'data': {'text/html':\n     \"<div style='background-color: #fdd'>\\n\"+\n     \"<p>\\n\"+\n     \"BokehJS does not appear to have successfully loaded. If loading BokehJS from CDN, this \\n\"+\n     \"may be due to a slow or bad network connection. Possible fixes:\\n\"+\n     \"</p>\\n\"+\n     \"<ul>\\n\"+\n     \"<li>re-rerun `output_notebook()` to attempt to load from CDN again, or</li>\\n\"+\n     \"<li>use INLINE resources instead, as so:</li>\\n\"+\n     \"</ul>\\n\"+\n     \"<code>\\n\"+\n     \"from bokeh.resources import INLINE\\n\"+\n     \"output_notebook(resources=INLINE)\\n\"+\n     \"</code>\\n\"+\n     \"</div>\"}};\n\n  function display_loaded() {\n    const el = document.getElementById(null);\n    if (el != null) {\n      el.textContent = \"BokehJS is loading...\";\n    }\n    if (root.Bokeh !== undefined) {\n      if (el != null) {\n        el.textContent = \"BokehJS \" + root.Bokeh.version + \" successfully loaded.\";\n      }\n    } else if (Date.now() < root._bokeh_timeout) {\n      setTimeout(display_loaded, 100)\n    }\n  }\n\n  function run_callbacks() {\n    try {\n      root._bokeh_onload_callbacks.forEach(function(callback) {\n        if (callback != null)\n          callback();\n      });\n    } finally {\n      delete root._bokeh_onload_callbacks\n    }\n    console.debug(\"Bokeh: all callbacks have finished\");\n  }\n\n  function load_libs(css_urls, js_urls, callback) {\n    if (css_urls == null) css_urls = [];\n    if (js_urls == null) js_urls = [];\n\n    root._bokeh_onload_callbacks.push(callback);\n    if (root._bokeh_is_loading > 0) {\n      console.debug(\"Bokeh: BokehJS is being loaded, scheduling callback at\", now());\n      return null;\n    }\n    if (js_urls == null || js_urls.length === 0) {\n      run_callbacks();\n      return null;\n    }\n    console.debug(\"Bokeh: BokehJS not loaded, scheduling load and callback at\", now());\n    root._bokeh_is_loading = css_urls.length + js_urls.length;\n\n    function on_load() {\n      root._bokeh_is_loading--;\n      if (root._bokeh_is_loading === 0) {\n        console.debug(\"Bokeh: all BokehJS libraries/stylesheets loaded\");\n        run_callbacks()\n      }\n    }\n\n    function on_error(url) {\n      console.error(\"failed to load \" + url);\n    }\n\n    for (let i = 0; i < css_urls.length; i++) {\n      const url = css_urls[i];\n      const element = document.createElement(\"link\");\n      element.onload = on_load;\n      element.onerror = on_error.bind(null, url);\n      element.rel = \"stylesheet\";\n      element.type = \"text/css\";\n      element.href = url;\n      console.debug(\"Bokeh: injecting link tag for BokehJS stylesheet: \", url);\n      document.body.appendChild(element);\n    }\n\n    for (let i = 0; i < js_urls.length; i++) {\n      const url = js_urls[i];\n      const element = document.createElement('script');\n      element.onload = on_load;\n      element.onerror = on_error.bind(null, url);\n      element.async = false;\n      element.src = url;\n      console.debug(\"Bokeh: injecting script tag for BokehJS library: \", url);\n      document.head.appendChild(element);\n    }\n  };\n\n  function inject_raw_css(css) {\n    const element = document.createElement(\"style\");\n    element.appendChild(document.createTextNode(css));\n    document.body.appendChild(element);\n  }\n\n  const js_urls = [\"https://cdn.bokeh.org/bokeh/release/bokeh-3.3.2.min.js\", \"https://cdn.bokeh.org/bokeh/release/bokeh-gl-3.3.2.min.js\", \"https://cdn.bokeh.org/bokeh/release/bokeh-widgets-3.3.2.min.js\", \"https://cdn.bokeh.org/bokeh/release/bokeh-tables-3.3.2.min.js\", \"https://cdn.bokeh.org/bokeh/release/bokeh-mathjax-3.3.2.min.js\"];\n  const css_urls = [];\n\n  const inline_js = [    function(Bokeh) {\n      Bokeh.set_log_level(\"info\");\n    },\nfunction(Bokeh) {\n    }\n  ];\n\n  function run_inline_js() {\n    if (root.Bokeh !== undefined || force === true) {\n          for (let i = 0; i < inline_js.length; i++) {\n      inline_js[i].call(root, root.Bokeh);\n    }\n} else if (Date.now() < root._bokeh_timeout) {\n      setTimeout(run_inline_js, 100);\n    } else if (!root._bokeh_failed_load) {\n      console.log(\"Bokeh: BokehJS failed to load within specified timeout.\");\n      root._bokeh_failed_load = true;\n    } else if (force !== true) {\n      const cell = $(document.getElementById(null)).parents('.cell').data().cell;\n      cell.output_area.append_execute_result(NB_LOAD_WARNING)\n    }\n  }\n\n  if (root._bokeh_is_loading === 0) {\n    console.debug(\"Bokeh: BokehJS loaded, going straight to plotting\");\n    run_inline_js();\n  } else {\n    load_libs(css_urls, js_urls, function() {\n      console.debug(\"Bokeh: BokehJS plotting callback run at\", now());\n      run_inline_js();\n    });\n  }\n}(window));",
      "application/vnd.bokehjs_load.v0+json": ""
     },
     "metadata": {},
     "output_type": "display_data"
    }
   ],
   "source": [
    "af1 = malariagen_data.Af1(pre=True,\n",
    "                          gcs_cache='/home/namulil/lstm_projects/funestus_llineup/gcs_cache',\n",
    "                          results_cache='home/namulil/lstm_projects/funestus_llineup/results_cache'\n",
    "                          )"
   ]
  },
  {
   "cell_type": "code",
   "execution_count": 5,
   "id": "364bb11b-76c4-4e6e-b342-d41a9f07912c",
   "metadata": {
    "tags": []
   },
   "outputs": [],
   "source": [
    "contig = h12_calibration_contig\n"
   ]
  },
  {
   "cell_type": "markdown",
   "id": "1a281281-2954-46e3-9757-cb3e07b8a403",
   "metadata": {},
   "source": [
    "## Run calibration"
   ]
  },
  {
   "cell_type": "code",
   "execution_count": 6,
   "id": "57bf7410-1693-4e5e-ac0a-9f83880d34ba",
   "metadata": {
    "tags": []
   },
   "outputs": [
    {
     "data": {
      "text/plain": [
       "<LazyLoader: 100, 1000, 10000, 200, 2000, 20000, 500, 5000>"
      ]
     },
     "execution_count": 6,
     "metadata": {},
     "output_type": "execute_result"
    }
   ],
   "source": [
    "calibration_runs = af1.h12_calibration(\n",
    "    contig=h12_calibration_contig,\n",
    "    analysis='funestus',\n",
    "    sample_sets=sample_sets,\n",
    "    sample_query=sample_query,\n",
    "    min_cohort_size=None,\n",
    "    max_cohort_size=None,\n",
    "    window_sizes=window_sizes,\n",
    ")\n",
    "calibration_runs"
   ]
  },
  {
   "cell_type": "code",
   "execution_count": 7,
   "id": "aa92376f-7073-43c9-a33d-5edab1628402",
   "metadata": {
    "tags": []
   },
   "outputs": [
    {
     "data": {
      "text/plain": [
       "500"
      ]
     },
     "execution_count": 7,
     "metadata": {},
     "output_type": "execute_result"
    }
   ],
   "source": [
    "## code create new variable window size that will return None if no selected window size is got\n",
    "##iterates over all the window sizes craeates a value x form clalibration runs and sets on 95 percentiles of the x values\n",
    "selected_window_size = None\n",
    "for window_size in window_sizes:\n",
    "    x = calibration_runs[str(window_size)]\n",
    "    x95 = np.percentile(x, 95)\n",
    "    if x95 < 0.1:\n",
    "        selected_window_size = window_size\n",
    "        break ## exit loop if appropriate window size is obtained\n",
    "selected_window_size"
   ]
  },
  {
   "cell_type": "markdown",
   "id": "5ba0820e-7797-48f8-aa48-366937a005bc",
   "metadata": {},
   "source": [
    "## Write outputs"
   ]
  },
  {
   "cell_type": "code",
   "execution_count": 8,
   "id": "f1be8ce6-5174-40ab-8cb4-d131d0649d32",
   "metadata": {
    "tags": []
   },
   "outputs": [],
   "source": [
    "outdir = \"/home/namulil/lstm_projects/funestus_llineup/notebooks/Signal_localisation\"\n",
    "os.makedirs(outdir, exist_ok=True)"
   ]
  },
  {
   "cell_type": "code",
   "execution_count": 9,
   "id": "8ee2e373-cafd-40c2-ae84-264fc56b03e3",
   "metadata": {
    "tags": []
   },
   "outputs": [],
   "source": [
    "## saving a dictionary of key (h12 window size) : value (selected window size)\n",
    "output = {\n",
    "    \"h12_window_size\": selected_window_size\n",
    "}\n",
    "with open(os.path.join(outdir, f\"{cohort_id}.yaml\"), mode=\"w\") as output_file:\n",
    "    yaml.safe_dump(output, output_file)\n",
    "    "
   ]
  },
  {
   "cell_type": "markdown",
   "id": "71a48b76",
   "metadata": {},
   "source": [
    "## doing as above for the X chromosome###\n"
   ]
  },
  {
   "cell_type": "code",
   "execution_count": 10,
   "id": "93169873",
   "metadata": {},
   "outputs": [],
   "source": [
    "# Notebook parameters. Values here are for development only and \n",
    "# will be overridden when running via snakemake and papermill.\n",
    "#cohort_id = 'llineupx'\n",
    "#cohorts_analysis=\"20230223\"\n",
    "#contigs = ['2L']\n",
    "#sample_sets = [\"1288-VO-UG-DONNELLY-VMF00219\"]\n",
    "#sample_query = \"sex_call == 'F'\"\n",
    "#min_cohort_size = 20\n",
    "#max_cohort_size = 50\n",
    "#h12_calibration_contig = 'X'\n",
    "#use_gcs_cache = False\n",
    "#dask_scheduler = \"threads\"\n",
    "#window_sizes = (100, 200, 500, 1000, 2000, 5000, 10000, 20000)"
   ]
  },
  {
   "cell_type": "code",
   "execution_count": null,
   "id": "74e28793",
   "metadata": {},
   "outputs": [],
   "source": [
    "#calibration_runs = af1.h12_calibration(\n",
    "    #contig=h12_calibration_contig,\n",
    "    #analysis='funestus',\n",
    "    #sample_sets=sample_sets,\n",
    "    #sample_query=sample_query,\n",
    "    #min_cohort_size=None,\n",
    "    #max_cohort_size=None,\n",
    "    #window_sizes=window_sizes,\n",
    "#)\n",
    "#calibration_runs"
   ]
  },
  {
   "cell_type": "code",
   "execution_count": 12,
   "id": "2c0d232e",
   "metadata": {},
   "outputs": [
    {
     "data": {
      "text/plain": [
       "500"
      ]
     },
     "execution_count": 12,
     "metadata": {},
     "output_type": "execute_result"
    }
   ],
   "source": [
    "## code create new variable window size that will return None if no selected window size is got\n",
    "##iterates over all the window sizes craeates a value x form clalibration runs and sets on 95 percentiles of the x values\n",
    "#selected_window_size = None\n",
    "#for window_size in window_sizes:\n",
    "    #x = calibration_runs[str(window_size)]\n",
    "    #x95 = np.percentile(x, 95)\n",
    "    #if x95 < 0.1:\n",
    "        #selected_window_size = window_size\n",
    "        #break ## exit loop if appropriate window size is obtained\n",
    "#selected_window_size"
   ]
  },
  {
   "cell_type": "code",
   "execution_count": 13,
   "id": "7d6c0623",
   "metadata": {},
   "outputs": [],
   "source": [
    "## saving a dictionary of key (h12 window size) : value (selected window size)\n",
    "#output = {\n",
    "   # \"h12_window_size\": selected_window_size\n",
    "#}\n",
    "#with open(os.path.join(outdir, f\"{cohort_id}.yaml\"), mode=\"w\") as output_file:## open file for writing dictionary in YAML format and writtable\n",
    " #   yaml.safe_dump(output, output_file)## dump the created dictionary into the output file"
   ]
  }
 ],
 "metadata": {
  "celltoolbar": "Tags",
  "kernelspec": {
   "display_name": "usr",
   "language": "python",
   "name": "python3"
  },
  "language_info": {
   "codemirror_mode": {
    "name": "ipython",
    "version": 3
   },
   "file_extension": ".py",
   "mimetype": "text/x-python",
   "name": "python",
   "nbconvert_exporter": "python",
   "pygments_lexer": "ipython3",
   "version": "3.10.12"
  }
 },
 "nbformat": 4,
 "nbformat_minor": 5
}
